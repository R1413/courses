{
 "cells": [
  {
   "cell_type": "markdown",
   "metadata": {},
   "source": [
    "# APPM 6640 - Homework 1 \n",
    "***\n",
    "This assignment is due on D2L by 11:59pm on **Thursday, June 15th**. Your solutions to the written exercises should be completed in Markdown directly in this Jupyter Notebook.  Ideally, your solutions to the programming problems should be written directly in the notebook as well, but if you like you can write your functions in a $\\texttt{.jl}$ script and then load your script into the notebook.  "
   ]
  },
  {
   "cell_type": "markdown",
   "metadata": {},
   "source": [
    "### Problem 1: Neumann Boundary Conditions \n",
    "Consider the 1D Model Problem subject to the _Neumann boundary conditions_ $u'(0) = u'(1) = 0$.  Find the system of linear equations that results when second-order finite difference are used to discretize this problem at the grid points $x_0, x_1, \\ldots, x_n$.  At the boundary points $x_0$ and $x_n$, one of the many ways to incorporate the boundary conditions is to let $v_1 = v_0$ and $v_{n-1} = v_n$.  How many equations and how many unknowns are there in this problem? Give the matrix that corresponds to this boundary value problem. "
   ]
  },
  {
   "cell_type": "markdown",
   "metadata": {},
   "source": [
    "### Problem 2: Periodic Boundary Conditions \n",
    "Consider the 1D Model Problem subject to the _periodic boundary conditions_ $u(0)=u(1)$ and $u'(0) = u'(1)$.  Find the system of linear equations that results when second-order finite difference are used to discretize this problem at the grid points $x_0, x_1, \\ldots, x_{n-1}$.  How many equations and how many unknowns are there in this problem? Give the matrix that corresponds to this boundary value problem. "
   ]
  },
  {
   "cell_type": "markdown",
   "metadata": {},
   "source": [
    "### Problem 3:  Sparse Matrix-Vector Product\n",
    "Write a function $\\texttt{SparseMatVec}$ with the following API that takes a SparseMatrixCSC matrix $A$ and a vector $x$ and performs the _sparse_ matrix-vector product $b = Ax$.  Your function should perform the mat-vec by accessing $A$'s $\\texttt{nzval}$, $\\texttt{colptr}$, and $\\texttt{rowval}$ arrays.  Don't just return $\\texttt{A*x}$.   "
   ]
  },
  {
   "cell_type": "code",
   "execution_count": null,
   "metadata": {
    "collapsed": false,
    "scrolled": true
   },
   "outputs": [],
   "source": [
    "function SparseMatVec(A::SparseMatrixCSC, x::Vector)"
   ]
  },
  {
   "cell_type": "markdown",
   "metadata": {},
   "source": [
    "### Problem 4: The 1D Model Problem \n",
    "Write a function $\\texttt{ModelProblem1D}$ with the following API that returns the SparseMatrixCSC-type matrix $A$ corresponding to the 1D Model Problem with Dirichlet Boundary Conditions.  The function should take as inputs an integer $L$ such that the 1D domain $\\Omega = [0,1]$ is divided into $2^L$ subintervals ($2^L-1$ interior grid points) and a float $sig$ corresponding to the coefficient $\\sigma$.   Try to be as efficient as possible here. Don't create a dense matrix and then convert it to SparseMatrixCSC at the very end. "
   ]
  },
  {
   "cell_type": "code",
   "execution_count": null,
   "metadata": {
    "collapsed": false
   },
   "outputs": [],
   "source": [
    "function ModelProblem1D(L::Int64, sig::Float64)"
   ]
  },
  {
   "cell_type": "markdown",
   "metadata": {},
   "source": [
    "### Problem 5: The 2D Model Problem\n",
    "Write a function $\\texttt{ModelProblem2D}$ with the following API that returns the SparseMatrixCSC-type matrix $A$ corresponding to the 2D Model Problem with Dirichlet Boundary Conditions.  The function should take two integers, $L_x$ and $L_y$, as input arguments such that each line of constant $y$ (resp. $x$) in the domain $\\Omega = [0,1]\\times[0,1]$ is divided into $2^{L_x}$ (resp. $2^{L_y}$) subintervals giving a grand total of $(2^{L_x}-1)(2^{L_y}-1)$ interior grid points.  Your function should also take a float $\\texttt{sig}$ corresponding to the coefficient $\\sigma$. Your function should order the unknowns lexicographically, but the ordering $x$ and $y$ is up to you.  \n",
    "\n",
    "You can implement the 2D function from scratch if you like, but a simpler option is to convince yourself that if $A_x$ and $A_y$ are matrices associated with the 1D model problem on lines of constant $y$ and constant $x$, respectively, then you can write the matrix associated with the 2D model problem as \n",
    "\n",
    "$$\n",
    "A = A_x \\otimes I_y + I_x \\otimes A_y\n",
    "$$\n",
    "\n",
    "where here $I_x$ and $I_y$ are identity operators (of possibly different dimensions).  Constructing the 2D matrix can then be accomplished with two calls to $\\texttt{ModelProblem1D}$ and Julia's tensor product function $\\texttt{kron}$. "
   ]
  },
  {
   "cell_type": "code",
   "execution_count": null,
   "metadata": {
    "collapsed": false
   },
   "outputs": [],
   "source": [
    "function ModelProblem2D(Lx::Int64, Ly::Int64, sig::Float64)"
   ]
  }
 ],
 "metadata": {
  "kernelspec": {
   "display_name": "Julia 0.5.2",
   "language": "julia",
   "name": "julia-0.5"
  },
  "language_info": {
   "file_extension": ".jl",
   "mimetype": "application/julia",
   "name": "julia",
   "version": "0.5.2"
  }
 },
 "nbformat": 4,
 "nbformat_minor": 0
}
