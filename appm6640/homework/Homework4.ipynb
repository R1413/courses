{
 "cells": [
  {
   "cell_type": "markdown",
   "metadata": {},
   "source": [
    "# APPM 6640 - Homework 4\n",
    "***\n",
    "This assignment is due on D2L by 11:59pm on **Thursday, July 13th**. Your solutions to the written exercises should be completed in Markdown directly in this Jupyter Notebook.  Ideally, your solutions to the programming problems should be written directly in the notebook as well, but if you like you can write your functions in a $\\texttt{.jl}$ script and then load your script into the notebook.  "
   ]
  },
  {
   "cell_type": "markdown",
   "metadata": {},
   "source": [
    "### Problem 1: Two-Dimensional Five-Point Stencil \n",
    "When the two dimensional model problem is discretized on a uniform grid with $h_x = h_y = h$, the coefficients at each grid point are given by the five-point stencil \n",
    "\n",
    "$$\n",
    "A^h = \\frac{1}{h^2} \\left( \n",
    "\\begin{array}{ccc}\n",
    " & -1 & \\\\\n",
    " -1 & 4 & -1 \\\\\n",
    "  & -1 & \n",
    "\\end{array}\n",
    "\\right)\n",
    "$$\n",
    "\n",
    "What does the stencil for the Galerkin coarse-grid operator, $A^{2h} = RA^hP$, look like if $P$ is based on bilinear interpolation and $R$ is based on (a) full-weighting and (b) injection? "
   ]
  },
  {
   "cell_type": "markdown",
   "metadata": {},
   "source": [
    "### Problem 2: Two-Dimensional Nine-Point Stencil \n",
    "Repeat the previous problem with the nine-point stencil arising from a Galerkin finite-element discretization of the 2D model problem: \n",
    "\n",
    "$$\n",
    "A^h = \\frac{1}{3h^2} \\left( \n",
    "\\begin{array}{ccc}\n",
    "-1 & -1 & -1 \\\\\n",
    "-1 &  8 & -1 \\\\\n",
    "-1 & -1 & -1\n",
    "\\end{array}\n",
    "\\right)\n",
    "$$\n"
   ]
  },
  {
   "cell_type": "markdown",
   "metadata": {},
   "source": [
    "### Problem 3: Bilinear Interpolation\n",
    "Show (mathematically) that the 2D bilinear interpolation operator $P$ can be written as \n",
    "\n",
    "$$\n",
    "P = P_y \\otimes P_x \n",
    "$$\n",
    "\n",
    "where $P_x$ and $P_y$ are the 1D linear interpolation operators associated with the grid lines of constant $y$ and constant $x$, respectively. "
   ]
  },
  {
   "cell_type": "markdown",
   "metadata": {},
   "source": [
    "### Problem 4: Bilinear Interpolation Operator  \n",
    "Write a function $\\texttt{bilinterp}$ with the following API that accepts integers $L_x$ and $L_y$ and returns the bilinear interpolation operator $P$ of type $\\texttt{SparseMatrixCSC}$ that interpolates vectors ${\\bf v}^{2h}$ to vectors ${\\bf v}^h$ where ${\\bf v}^h$ lives on a grid with $(2^{L_x}-1)(2^{L_y}-1)$ interior grid points.  "
   ]
  },
  {
   "cell_type": "code",
   "execution_count": null,
   "metadata": {
    "collapsed": false
   },
   "outputs": [],
   "source": [
    "function bilinterp(Lx::Int64, Ly::Int64)"
   ]
  },
  {
   "cell_type": "markdown",
   "metadata": {},
   "source": [
    "### Problem 5: Full-Weighting Restriction Operator  \n",
    "Write a function $\\texttt{fullweighting}$ with the following API that accepts integers $L_x$ and $L_y$ and returns the 2D full-weighting restriction operator $R$ of type $\\texttt{SparseMatrixCSC}$ that restricts vectors ${\\bf v}^{h}$ to vectors ${\\bf v}^{2h}$ where ${\\bf v}^h$ lives on a grid with $(2^{L_x}-1)(2^{L_y}-1)$ interior grid points.  "
   ]
  },
  {
   "cell_type": "code",
   "execution_count": null,
   "metadata": {
    "collapsed": false
   },
   "outputs": [],
   "source": [
    "function fullweighting(Lx::Int64, Ly::Int64)"
   ]
  },
  {
   "cell_type": "markdown",
   "metadata": {},
   "source": [
    "### Problem 6: Level Hierarchy \n",
    "Recall the level type data structure discussed in class. "
   ]
  },
  {
   "cell_type": "code",
   "execution_count": null,
   "metadata": {
    "collapsed": false
   },
   "outputs": [],
   "source": [
    "type level\n",
    "    A::AbstractMatrix\n",
    "    P::AbstractMatrix\n",
    "    R::AbstractMatrix\n",
    "    v::AbstractVector\n",
    "    f::AbstractVector\n",
    "    smoother::Function\n",
    "    level(A,P,R,v,f,s) = new(copy(A), copy(P), copy(R), copy(v), copy(f), s)\n",
    "end"
   ]
  },
  {
   "cell_type": "markdown",
   "metadata": {},
   "source": [
    "Write a function $\\texttt{MGInitialize2D}$ with the following API that accepts an integers $\\texttt{fineLx}$  and $\\texttt{fineLy}$ representing the resolution on the finest level,  an integer $\\texttt{numLevels}$ representing the total number of levels in the hierarchy, a float $\\sigma$, and a function $\\texttt{smoother}$ indicating the relaxation technique to use and returns an array of level types initialized with $A$, $P$, $R$, ${\\bf v}$ and ${\\bf f}$ of appropriate initializations and sizes. \n",
    "\n",
    "**Notes**: \n",
    "- The coarse grid operators $A$ should be constructed by rediscretizing the model problem on the appropriate grid level. \n",
    "- You are free to add optional default parameters to the end of the API that make your life easier, provided that the default function call does something reasonable. "
   ]
  },
  {
   "cell_type": "code",
   "execution_count": null,
   "metadata": {
    "collapsed": false
   },
   "outputs": [],
   "source": [
    "function MGInitialize2D(fineLx::Int64, fineLy::Int64, numLevels::Int64, sigma::Float64, smoother::Function)"
   ]
  },
  {
   "cell_type": "markdown",
   "metadata": {},
   "source": [
    "### Problem 7: FMG-Cycle \n",
    "If you wrote robust code in Homework 3 then your $\\texttt{VCycle!}$ function work out-of-the-box on the new 2D hierarchy.  Your first task is to do some testing to check that this is the case.  Once you're confident that your $\\texttt{VCycle!}$ works, write a new function $\\texttt{FMGCycle!}$ with the following API that accepts an array of level types representing the multigrid hierarchy, integers $\\texttt{nu1}$ and $\\texttt{nu2}$ representing the number of pre- and post-relaxation sweeps and performs a single FMG-Cycle (concluding the single V-Cycle starting from the finest grid). The optional integer $\\texttt{myLev}$ indicating the current level in the hierarchy will be helpful for recursive implementations. "
   ]
  },
  {
   "cell_type": "code",
   "execution_count": null,
   "metadata": {
    "collapsed": true
   },
   "outputs": [],
   "source": [
    "function FMGCycle!(lv::Array{level,1},nu1::Int64,nu2::Int64,myLev::Int64=1)"
   ]
  },
  {
   "cell_type": "markdown",
   "metadata": {},
   "source": [
    "### Problem 8: Experiments and Analysis\n",
    "\n",
    "Test the V-Cycle and FMG-Cycle codes separately on the 2D Model Problem with a known exact solution.  First try $f(x,y) = 0$ (with solution $u(x,y) = 0$) and then try $f(x,y) = C\\sin(k\\pi x)\\sin(\\ell \\pi y)$ where $C$ is real and $k$ and $\\ell$ are integer constants.  The exact solution to this problem is given by \n",
    "\n",
    "$$\n",
    "u(x,y) = \\frac{C}{\\pi^2k^2 + \\pi^2\\ell^2 + \\sigma} \\sin{(k\\pi x)} \\sin{(\\ell \\pi y)}. \n",
    "$$\n",
    "\n",
    "For a complete analysis of FMG, check that your cycle is converging to the level of discretization error after a single complete FMG-cycle. "
   ]
  }
 ],
 "metadata": {
  "kernelspec": {
   "display_name": "Julia 0.5.2",
   "language": "julia",
   "name": "julia-0.5"
  },
  "language_info": {
   "file_extension": ".jl",
   "mimetype": "application/julia",
   "name": "julia",
   "version": "0.5.2"
  }
 },
 "nbformat": 4,
 "nbformat_minor": 0
}
