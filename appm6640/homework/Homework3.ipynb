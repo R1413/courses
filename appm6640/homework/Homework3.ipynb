{
 "cells": [
  {
   "cell_type": "markdown",
   "metadata": {},
   "source": [
    "# APPM 6640 - Homework 3\n",
    "***\n",
    "This assignment is due on D2L by 11:59pm on **Thursday, June 29nd**. Your solutions to the written exercises should be completed in Markdown directly in this Jupyter Notebook.  Ideally, your solutions to the programming problems should be written directly in the notebook as well, but if you like you can write your functions in a $\\texttt{.jl}$ script and then load your script into the notebook.  "
   ]
  },
  {
   "cell_type": "markdown",
   "metadata": {},
   "source": [
    "### Problem 1: Properties of Interpolation\n",
    "Show that $P$ based on linear interpolation in 1D is a linear operator with full rank. "
   ]
  },
  {
   "cell_type": "markdown",
   "metadata": {},
   "source": [
    "### Problem 2: Properties Restriction\n",
    "What is the rank of $R$ based on (a) injection and (b) full weighting in 1D? "
   ]
  },
  {
   "cell_type": "markdown",
   "metadata": {},
   "source": [
    "### Problem 3:  The Variational Property \n",
    "(a) Let $P$ be linear interpolation and $R$ be full weighting in 1D.  Show that these operators satisfy the Galerkin condition $P = cR^T$ by computing $c \\in \\mathbb{R}$. \n",
    "\n",
    "(b) The choice of $c \\neq 1$ found in part (a) is used because full weighting essentially preserves constants.  Show that, except at the boundary, $R{\\bf 1}^{h} = {\\bf 1}^{2h}$ (where ${\\bf 1}^h$ and ${\\bf 1}^{2h}$ are the vectors with entries $1$ on their respective grids)"
   ]
  },
  {
   "cell_type": "markdown",
   "metadata": {},
   "source": [
    "### Problem 4: Linear Interpolation Operator  \n",
    "Write a function $\\texttt{linterp}$ with the following API that accepts an integer $L$ and returns the linear interpolation operator $P$ of type $\\texttt{SparseMatrixCSC}$ that interpolates vectors ${\\bf v}^{2h}$ from level $L-1$ to vectors ${\\bf v}^h$ on level $L$ (where, as usual, the grid on level $L$ is divided into $n = 2^L$ subintervals).    "
   ]
  },
  {
   "cell_type": "code",
   "execution_count": null,
   "metadata": {
    "collapsed": false
   },
   "outputs": [],
   "source": [
    "function linterp(L::Int64)"
   ]
  },
  {
   "cell_type": "markdown",
   "metadata": {},
   "source": [
    "### Problem 5: Restriction Operators  \n",
    "Write functions $\\texttt{injection}$ and $\\texttt{fullweighting}$ with the following APIs that accept an integer $L$ and return the injection and full weighting operators $R$ of type $\\texttt{SparseMatrixCSC}$ that restrict vectors ${\\bf v}^{h}$ from level $L$ to vectors ${\\bf v}^{2h}$ on level $L-1$."
   ]
  },
  {
   "cell_type": "code",
   "execution_count": null,
   "metadata": {
    "collapsed": false
   },
   "outputs": [],
   "source": [
    "function injection(L::Int64)"
   ]
  },
  {
   "cell_type": "code",
   "execution_count": null,
   "metadata": {
    "collapsed": false
   },
   "outputs": [],
   "source": [
    "function fullweighting(L::Int64)"
   ]
  },
  {
   "cell_type": "markdown",
   "metadata": {},
   "source": [
    "### Problem 6: Level Hierarchy \n",
    "Recall the level type data structure discussed in class. "
   ]
  },
  {
   "cell_type": "code",
   "execution_count": null,
   "metadata": {
    "collapsed": true
   },
   "outputs": [],
   "source": [
    "type level\n",
    "    A::AbstractMatrix\n",
    "    P::AbstractMatrix\n",
    "    R::AbstractMatrix\n",
    "    v::AbstractVector\n",
    "    f::AbstractVector\n",
    "    smoother::Function\n",
    "    level(A,P,R,v,f,s) = new(copy(A), copy(P), copy(R), copy(v), copy(f), s)\n",
    "end"
   ]
  },
  {
   "cell_type": "markdown",
   "metadata": {},
   "source": [
    "Write a function $\\texttt{MGInitialize1D}$ with the following API that accepts an integer $\\texttt{fineL}$ representing the resolution on the finest level,  an integer $\\texttt{numLevels}$ representing the total number of levels in the hierarchy, a float $\\sigma$, and a function $\\texttt{smoother}$ indicating the relaxation technique to use and returns an array of level types initialized with $A$, $P$, $R$, ${\\bf v}$ and ${\\bf f}$ of appropriate initializations and sizes. "
   ]
  },
  {
   "cell_type": "code",
   "execution_count": null,
   "metadata": {
    "collapsed": false
   },
   "outputs": [],
   "source": [
    "function MGInitialize1D(fineL::Int64, numLevels::Int64, sigma::Float64, smoother::Function)"
   ]
  },
  {
   "cell_type": "markdown",
   "metadata": {},
   "source": [
    "### Problem 7: V-Cycle \n",
    "Write a function $\\texttt{VCycle!}$ with the following API that accepts an array of level types representing the multigrid hierarchy, integers $\\texttt{nu1}$ and $\\texttt{nu2}$ representing the number of pre- and post-relaxation sweeps and performs a single V-Cycle. The optional integer $\\texttt{myLev}$ indicating the current level in the hierarchy will be helpful for recursive implementations.  "
   ]
  },
  {
   "cell_type": "code",
   "execution_count": null,
   "metadata": {
    "collapsed": true
   },
   "outputs": [],
   "source": [
    "function VCycle!(lv::Array{level,1},nu1::Int64,nu2::Int64,myLev::Int64=1)"
   ]
  },
  {
   "cell_type": "markdown",
   "metadata": {},
   "source": [
    "### Problem 8: Experiments and Analysis\n",
    "Test your V-Cycle routine on the 1D model problem with varying smoothers, number of pre- and post-smoothing steps, and restriction operators and report on your results.  A good way to do this would be to create tables similar to Table 4.1 from _A Multigrid Tutorial_.  \n",
    "\n",
    "**Hints**: Start by testing your V-Cycle on the 1D model problem with $\\sigma=0$, zero right-hand side, and a random initial guess.  Then test your V-Cycle on simple model problems where the exact solution is known.  For example, for a fixed integer $K$, take $f(x) = C\\sin(K\\pi x)$ where $C$ is a constant.  Then the exact solution to the 1D model problem is \n",
    "\n",
    "$$\n",
    "u(x) = \\frac{C}{\\pi^2K^2 + \\sigma}\\sin(K\\pi x)\n",
    "$$"
   ]
  }
 ],
 "metadata": {
  "kernelspec": {
   "display_name": "Julia 0.5.2",
   "language": "julia",
   "name": "julia-0.5"
  },
  "language_info": {
   "file_extension": ".jl",
   "mimetype": "application/julia",
   "name": "julia",
   "version": "0.5.2"
  }
 },
 "nbformat": 4,
 "nbformat_minor": 0
}
