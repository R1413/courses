{
 "cells": [
  {
   "cell_type": "markdown",
   "metadata": {},
   "source": [
    "# APPM 6640 - Homework 2\n",
    "***\n",
    "This assignment is due on D2L by 11:59pm on **Thursday, June 22nd**. Your solutions to the written exercises should be completed in Markdown directly in this Jupyter Notebook.  Ideally, your solutions to the programming problems should be written directly in the notebook as well, but if you like you can write your functions in a $\\texttt{.jl}$ script and then load your script into the notebook.  "
   ]
  },
  {
   "cell_type": "markdown",
   "metadata": {},
   "source": [
    "### Problem 1: Optimal Jacobi  \n",
    "Show that when the weighted Jacobi method is used with $\\omega = \\frac{2}{3}$, the smoothing factor is $\\frac{1}{3}$. Show that if $\\omega$ is chosen to damp the smooth modes effectively, then the oscillatory modes are actually amplified.  "
   ]
  },
  {
   "cell_type": "markdown",
   "metadata": {},
   "source": [
    "### Problem 2: Properties of Gauss-Seidel\n",
    "Let $A$ be an arbitrary symmetric positive definite matrix.  \n",
    "\n",
    "<p> </p> \n",
    "\n",
    "(a). Show that the $j^\\textrm{th}$ step of a _single_ sweep of Gauss-Seidel applied to $A{\\bf u} = {\\bf f}$ may be expressed as \n",
    "\n",
    "$$\n",
    "v_j \\leftarrow v_j + \\frac{r_j}{a_{jj}}\n",
    "$$\n",
    "\n",
    "<p> </p> \n",
    "\n",
    "(b). Show that the $j^\\textrm{th}$ step of a _single_ sweep of Gauss-Seidel can be expressed in vector form as \n",
    "\n",
    "$$\n",
    "{\\bf v} \\leftarrow {\\bf v} + \\frac{( {\\bf r}, \\hat{\\bf e}_j )}{( A\\hat{\\bf e}_j, \\hat{\\bf e}_j )}\\hat{\\bf e}_j \n",
    "$$\n",
    "\n",
    "where $\\hat{\\bf e}_j$ is the $j^\\textrm{th}$ canonical unit vector. \n",
    "\n",
    "<p> </p> \n",
    "\n",
    "(c). Show that each sweep of Gauss-Seidel decreases the quantity $(A{\\bf e}, {\\bf e})$ where ${\\bf e} = {\\bf u} - {\\bf v}$. \n",
    "\n",
    "\n",
    "<p> </p> \n",
    "\n",
    "(d). Show that Gauss-Seidel is optimal in the sense that the quantity $\\|{\\bf e}-s\\hat{\\bf e}_j\\|_A$ is minimized for each $1 \\leq j \\leq n$ when $s = ( {\\bf r}, \\hat{\\bf e}_j )/( A\\hat{\\bf e}_j, \\hat{\\bf e}_j )$, which is precisely a Gauss-Seidel step. "
   ]
  },
  {
   "cell_type": "markdown",
   "metadata": {},
   "source": [
    "### Problem 3:  Residuals and Smooth Errors \n",
    "Consider the residual equation $A{\\bf e} = {\\bf r}$, at a single point, where $A$ is the matrix from the 1D Model Problem.  Show that if ${\\bf e}$ is smooth (for example, nearly constant), then ${\\bf r}$ is small relative to $\\|A\\|\\|{\\bf e}\\|$.  Conversely, show that if ${\\bf e}$ is oscillatory, then ${\\bf r}$ is relatively large. "
   ]
  },
  {
   "cell_type": "markdown",
   "metadata": {},
   "source": [
    "### Problem 4:  Aliasing \n",
    "Show that the $k^{\\textrm{th}}$ Fourier mode on grid $\\Omega^h$ with $n-1$ interior grid points appears as the $(n-k)^\\textrm{th}$ mode on grid $\\Omega^{2h}$ when $\\frac{n}{2} < k < n$. "
   ]
  },
  {
   "cell_type": "markdown",
   "metadata": {},
   "source": [
    "### Problem 5: Weighted-Jacobi \n",
    "Write a function $\\texttt{wjacobi!}$ with the following API that accepts a $\\texttt{SparseMatrixCSC}$ matrix $A$, an initial guess ${\\bf v}$, a right-hand side vector ${\\bf f}$ and performs $\\texttt{numIters}$ iterations of weighted-Jacobi with weight $\\texttt{w}$.  Your function should not return anything, but should instead update the iterate ${\\bf v}$ in place (hence the $\\texttt{!}$ at the end of the function name). Be sure to thoroughly test and comment your function. "
   ]
  },
  {
   "cell_type": "code",
   "execution_count": null,
   "metadata": {
    "collapsed": false
   },
   "outputs": [],
   "source": [
    "function wjacobi!(A::SparseMatrixCSC,v::Vector,f::Vector,numIters::Int64,w::Float64=2.0/3.0)"
   ]
  },
  {
   "cell_type": "markdown",
   "metadata": {},
   "source": [
    "### Problem 6: Gauss-Seidel \n",
    "Write a function $\\texttt{gaussseidel!}$ with the following API that accepts a $\\texttt{SparseMatrixCSC}$ matrix $A$, an initial guess ${\\bf v}$, a right-hand side vector ${\\bf f}$ and performs $\\texttt{numIters}$ iterations of Gauss-Seidel. Your function should not return anything, but should instead update the iterate ${\\bf v}$ in place (hence the $\\texttt{!}$ at the end of the function name). Be sure to thoroughly test and comment your function. "
   ]
  },
  {
   "cell_type": "code",
   "execution_count": null,
   "metadata": {
    "collapsed": false
   },
   "outputs": [],
   "source": [
    "function gaussseidel!(A::SparseMatrixCSC,v::Vector,f::Vector,numIters::Int64)"
   ]
  },
  {
   "cell_type": "markdown",
   "metadata": {},
   "source": [
    "### Problem 7: Experiments and Analysis\n",
    "Experiment with your two smoothers on the one-dimensional Model Problem with $\\sigma = 0$.  First reproduce the first two plots in Figure 2.3 of _A Multigrid Tutorial_.  Then experiment with initial guesses with different wavenumbers.  Describe how each method performs as the wavenumber increases and approaches $n-1$.  You don't need to write overly-long explanations.  Pictures are better than words. "
   ]
  }
 ],
 "metadata": {
  "kernelspec": {
   "display_name": "Julia 0.5.2",
   "language": "julia",
   "name": "julia-0.5"
  },
  "language_info": {
   "file_extension": ".jl",
   "mimetype": "application/julia",
   "name": "julia",
   "version": "0.5.2"
  }
 },
 "nbformat": 4,
 "nbformat_minor": 0
}
