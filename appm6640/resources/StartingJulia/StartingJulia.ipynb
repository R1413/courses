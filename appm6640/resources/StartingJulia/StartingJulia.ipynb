{
 "cells": [
  {
   "cell_type": "markdown",
   "metadata": {},
   "source": [
    "# Getting Started with Julia\n",
    "\n",
    "***\n",
    "\n",
    "From the Julia documentation on [julialang.org](http://julialang.org/): \n",
    "\n",
    ">Julia is a high-level, high-performance dynamic programming language for technical computing, with syntax that is familiar to users of other technical computing environments. It provides a sophisticated compiler, distributed parallel execution, numerical accuracy, and an extensive mathematical function library. Julia’s Base library, largely written in Julia itself, also integrates mature, best-of-breed open source C and Fortran libraries for linear algebra, random number generation, signal processing, and string processing. In addition, the Julia developer community is contributing a number of external packages through Julia’s built-in package manager at a rapid pace. IJulia, a collaboration between the IPython and Julia communities, provides a powerful browser-based graphical notebook interface to Julia.\n",
    "\n",
    "## How to Use Julia\n",
    "\n",
    "There are several options for interacting with Julia.  There is a [command-line REPL](http://julialang.org/downloads/) similar to iPython and the Matlab command-line interface.  There is the [Juno](http://junolab.org/) IDE which provides a development environment somewhere inbetween that of the Matlab IDE and Mathematica.  Finally, there is the Jupyter/iJulia Notebook interface, which I will primarily be using for this course. \n",
    "\n",
    "The easiest way to get started with Julia in the notebook environment is through [juliabox.com](https://www.juliabox.com).  JuliaBox allows you to get up and running with iJulia notebooks without having to install Julia on your local machine.  You can log into JuliaBox using your CU-Gmail account, and can sync files through your local machine, Google Drive, and even Github. \n",
    "\n",
    "## Some Simple Examples\n",
    "\n",
    "The following statements produce matrices A and B:\n"
   ]
  },
  {
   "cell_type": "code",
   "execution_count": 1,
   "metadata": {
    "collapsed": false
   },
   "outputs": [],
   "source": [
    "A = [1 2; 3 5];\n",
    "B = [4 5; 6 7];"
   ]
  },
  {
   "cell_type": "markdown",
   "metadata": {},
   "source": [
    "The matrices defined by these statements are \n",
    "\n",
    "$~$\n",
    "\n",
    "$$\n",
    "A = \n",
    "\\left[\n",
    "\\begin{array}{ll}\n",
    "1 & 2 \\\\\n",
    "3 & 5\n",
    "\\end{array}\n",
    "\\right]\n",
    "\\hspace{5mm} \\textrm{and} \\hspace{5mm}\n",
    "B = \n",
    "\\left[\n",
    "\\begin{array}{ll}\n",
    "4 & 5 \\\\\n",
    "6 & 7\n",
    "\\end{array}\n",
    "\\right]\n",
    "$$\n",
    "\n",
    "$~$\n",
    "\n",
    "The semi-colon at the end of each statement suppresses any julia output to the screen, but is generally unnecessary.  In fact, a lot of times we want to see the output after we run a command. If we run the statement defining A again without the semi-colon we get some useful information: "
   ]
  },
  {
   "cell_type": "code",
   "execution_count": 2,
   "metadata": {
    "collapsed": false
   },
   "outputs": [
    {
     "data": {
      "text/plain": [
       "2×2 Array{Int64,2}:\n",
       " 1  2\n",
       " 3  5"
      ]
     },
     "execution_count": 2,
     "metadata": {},
     "output_type": "execute_result"
    }
   ],
   "source": [
    "A = [1 2; 3 5]"
   ]
  },
  {
   "cell_type": "markdown",
   "metadata": {},
   "source": [
    "The output displays the matrix we just defined, as well as the row and column dimensions of the matrix, and the datatype of the variable A.  Note that because we entered the entries of A as integers the resulting variable is an Array of type Int64.  The 2 tells us that it's a two-dimensional array (i.e. a matrix).  \n",
    "\n",
    "If we instead wanted a matrix with floating point entries we enter the entries as decimal numbers: "
   ]
  },
  {
   "cell_type": "code",
   "execution_count": 3,
   "metadata": {
    "collapsed": false
   },
   "outputs": [
    {
     "data": {
      "text/plain": [
       "2×2 Array{Float64,2}:\n",
       " 7.0   8.0\n",
       " 9.0  10.0"
      ]
     },
     "execution_count": 3,
     "metadata": {},
     "output_type": "execute_result"
    }
   ],
   "source": [
    "C = [7.0 8.0; 9.0 10.0]"
   ]
  },
  {
   "cell_type": "markdown",
   "metadata": {},
   "source": [
    "We can now create new matrices by using A and B in expressions:"
   ]
  },
  {
   "cell_type": "code",
   "execution_count": 4,
   "metadata": {
    "collapsed": false
   },
   "outputs": [],
   "source": [
    "D = A + B;\n",
    "E = A * B;"
   ]
  },
  {
   "cell_type": "markdown",
   "metadata": {},
   "source": [
    "These statements define the new matrices D and E given by  \n",
    "\n",
    "$~$\n",
    "\n",
    "$$\n",
    "D = \n",
    "\\left[\n",
    "\\begin{array}{rr}\n",
    "5 & 7 \\\\ \n",
    "9 & 12 \n",
    "\\end{array}\n",
    "\\right]\n",
    "\\hspace{5mm} \\textrm{and} \\hspace{5mm}\n",
    "E = \n",
    "\\left[\n",
    "\\begin{array}{rr}\n",
    "16 & 19 \\\\ \n",
    "42 & 50 \n",
    "\\end{array}\n",
    "\\right]\n",
    "$$\n",
    "\n",
    "$~$\n",
    "\n",
    "We can check the value of a variable at anytime just by typing the variable name into a code cell and evaluating."
   ]
  },
  {
   "cell_type": "code",
   "execution_count": 5,
   "metadata": {
    "collapsed": false
   },
   "outputs": [
    {
     "data": {
      "text/plain": [
       "2×2 Array{Int64,2}:\n",
       " 5   7\n",
       " 9  12"
      ]
     },
     "execution_count": 5,
     "metadata": {},
     "output_type": "execute_result"
    }
   ],
   "source": [
    "D"
   ]
  },
  {
   "cell_type": "code",
   "execution_count": 6,
   "metadata": {
    "collapsed": false
   },
   "outputs": [
    {
     "data": {
      "text/plain": [
       "2×2 Array{Int64,2}:\n",
       " 16  19\n",
       " 42  50"
      ]
     },
     "execution_count": 6,
     "metadata": {},
     "output_type": "execute_result"
    }
   ],
   "source": [
    "E"
   ]
  },
  {
   "cell_type": "markdown",
   "metadata": {},
   "source": [
    "Unlike some languages, the Julia multiplication operator $*$ performs correct matrix multiplication when used with two matrix operands.  Note that this is *not* elementwise multiplication.  If you need elementwise multiplication (only rarely useful in linear algebra) you can acheive this by putting a . in front of the multiplication operator. "
   ]
  },
  {
   "cell_type": "code",
   "execution_count": 7,
   "metadata": {
    "collapsed": false
   },
   "outputs": [
    {
     "data": {
      "text/plain": [
       "2×2 Array{Int64,2}:\n",
       "  4  10\n",
       " 18  35"
      ]
     },
     "execution_count": 7,
     "metadata": {},
     "output_type": "execute_result"
    }
   ],
   "source": [
    "F = A .* B "
   ]
  },
  {
   "cell_type": "markdown",
   "metadata": {},
   "source": [
    "Vectors can be created in a natural way by thinking of them as matrices with only a single row or single column.  The following commands produce a row vector u and a column vector v:"
   ]
  },
  {
   "cell_type": "code",
   "execution_count": 8,
   "metadata": {
    "collapsed": false
   },
   "outputs": [
    {
     "data": {
      "text/plain": [
       "1×4 Array{Int64,2}:\n",
       " 1  2  3  4"
      ]
     },
     "execution_count": 8,
     "metadata": {},
     "output_type": "execute_result"
    }
   ],
   "source": [
    "u = [1 2 3 4]"
   ]
  },
  {
   "cell_type": "code",
   "execution_count": 9,
   "metadata": {
    "collapsed": false
   },
   "outputs": [
    {
     "data": {
      "text/plain": [
       "4-element Array{Int64,1}:\n",
       " 1\n",
       " 2\n",
       " 3\n",
       " 4"
      ]
     },
     "execution_count": 9,
     "metadata": {},
     "output_type": "execute_result"
    }
   ],
   "source": [
    "v = [1; 2; 3; 4]"
   ]
  },
  {
   "cell_type": "markdown",
   "metadata": {},
   "source": [
    "Note that in the column vector case, Julia is smart enough to recognize that this is a vector and stores it as a one-dimensional array.\n",
    "\n",
    "Matrix transposes are formed using an apostrophe.  "
   ]
  },
  {
   "cell_type": "code",
   "execution_count": 10,
   "metadata": {
    "collapsed": false
   },
   "outputs": [
    {
     "data": {
      "text/plain": [
       "2×2 Array{Int64,2}:\n",
       " 1  3\n",
       " 2  5"
      ]
     },
     "execution_count": 10,
     "metadata": {},
     "output_type": "execute_result"
    }
   ],
   "source": [
    "G = A'"
   ]
  },
  {
   "cell_type": "markdown",
   "metadata": {},
   "source": [
    "The above statement defines the matrix G to be the transpose of A, i.e. \n",
    "\n",
    "$~$\n",
    "\n",
    "$$\n",
    "G = A^T = \n",
    "\\left[\n",
    "\\begin{array}{rr}\n",
    "1 & 3 \\\\ \n",
    "2 & 5 \n",
    "\\end{array}\n",
    "\\right]\n",
    "$$\n",
    "\n",
    "$~$\n",
    "\n"
   ]
  },
  {
   "cell_type": "code",
   "execution_count": 11,
   "metadata": {
    "collapsed": false
   },
   "outputs": [
    {
     "data": {
      "text/plain": [
       "2×2 Array{Int64,2}:\n",
       "  5  13\n",
       " 13  34"
      ]
     },
     "execution_count": 11,
     "metadata": {},
     "output_type": "execute_result"
    }
   ],
   "source": [
    "H = A * A'"
   ]
  },
  {
   "cell_type": "markdown",
   "metadata": {},
   "source": [
    "This statement sets the matrix H to the product of A and its transpose, i.e. \n",
    "\n",
    "$~$\n",
    "\n",
    "$$\n",
    "H = A~A^T = \n",
    "\\left[\n",
    "\\begin{array}{rr}\n",
    "5 & 13 \\\\ \n",
    "13 & 34 \n",
    "\\end{array}\n",
    "\\right]\n",
    "$$\n",
    "\n",
    "$~$"
   ]
  },
  {
   "cell_type": "markdown",
   "metadata": {},
   "source": [
    "The following statements define a column vector $b = \\left[ 1, \\hspace{3mm}-1\\right]^T$ and sets $x$ to be the solution of the system $Ax = b$, that is \n",
    "\n",
    "$~$\n",
    "\n",
    "$$\n",
    "x = \n",
    "\\left[\n",
    "\\begin{array}{r}\n",
    "-7 \\\\\n",
    "4 \n",
    "\\end{array}\n",
    "\\right]\n",
    "$$\n",
    "\n",
    "$~$"
   ]
  },
  {
   "cell_type": "code",
   "execution_count": 12,
   "metadata": {
    "collapsed": false
   },
   "outputs": [
    {
     "data": {
      "text/plain": [
       "2-element Array{Float64,1}:\n",
       " -7.0\n",
       "  4.0"
      ]
     },
     "execution_count": 12,
     "metadata": {},
     "output_type": "execute_result"
    }
   ],
   "source": [
    "b = [1; -1]\n",
    "x = A \\ b"
   ]
  },
  {
   "cell_type": "markdown",
   "metadata": {},
   "source": [
    "Note that the *backslash* command is a catch-all for solving linear system of equations.  The method that Julia uses to solve the system depend largely on the specific circumstances.  For dense square matrices it solves the system via LU-Decomposition.  For rectangular systems it finds the least-squares solution.  \n"
   ]
  },
  {
   "cell_type": "markdown",
   "metadata": {},
   "source": [
    "<br>\n",
    "\n",
    "## Array Indexing\n",
    "\n",
    "Sometimes we want to inspect or work with portions of a vector or matrix instead of the whole thing. Consider the following vector $x$"
   ]
  },
  {
   "cell_type": "code",
   "execution_count": 13,
   "metadata": {
    "collapsed": false
   },
   "outputs": [],
   "source": [
    "x = [6; 2; 8; 3; 1];"
   ]
  },
  {
   "cell_type": "markdown",
   "metadata": {},
   "source": [
    "This is a column vector with length 5.  We know that it has length 5 because we built it that way, but if we ever forget how long a vector is we can always check using the `length` function:"
   ]
  },
  {
   "cell_type": "code",
   "execution_count": 14,
   "metadata": {
    "collapsed": false
   },
   "outputs": [
    {
     "data": {
      "text/plain": [
       "5"
      ]
     },
     "execution_count": 14,
     "metadata": {},
     "output_type": "execute_result"
    }
   ],
   "source": [
    "length(x)"
   ]
  },
  {
   "cell_type": "markdown",
   "metadata": {},
   "source": [
    "If we want to access a specific entry in the vector $x$ we enclose the index of the desired entry in brackets.  For instance, if we want to know what's in the 3rd entry of $x$ we do the following"
   ]
  },
  {
   "cell_type": "code",
   "execution_count": 15,
   "metadata": {
    "collapsed": false
   },
   "outputs": [
    {
     "data": {
      "text/plain": [
       "8"
      ]
     },
     "execution_count": 15,
     "metadata": {},
     "output_type": "execute_result"
    }
   ],
   "source": [
    "x[3]"
   ]
  },
  {
   "cell_type": "markdown",
   "metadata": {},
   "source": [
    "This is the first significant deviation from Matlab syntax.  In Matlab you access array elements with parentheses instead of brackets.\n",
    "\n",
    "Note that if we accidentally ask for an entry with index less than 1 or an index larger than the length of the array we get an error, as we should, since those entries do not exist:"
   ]
  },
  {
   "cell_type": "code",
   "execution_count": 16,
   "metadata": {
    "collapsed": false
   },
   "outputs": [
    {
     "ename": "LoadError",
     "evalue": "BoundsError: attempt to access 5-element Array{Int64,1} at index [6]",
     "output_type": "error",
     "traceback": [
      "BoundsError: attempt to access 5-element Array{Int64,1} at index [6]",
      "",
      " in getindex(::Array{Int64,1}, ::Int64) at ./array.jl:386",
      " in getindex(::Array{Int64,1}, ::Int64) at /Applications/Julia-0.5.app/Contents/Resources/julia/lib/julia/sys.dylib:?"
     ]
    }
   ],
   "source": [
    "x[6]"
   ]
  },
  {
   "cell_type": "code",
   "execution_count": 17,
   "metadata": {
    "collapsed": false
   },
   "outputs": [
    {
     "ename": "LoadError",
     "evalue": "BoundsError: attempt to access 5-element Array{Int64,1} at index [0]",
     "output_type": "error",
     "traceback": [
      "BoundsError: attempt to access 5-element Array{Int64,1} at index [0]",
      "",
      " in getindex(::Array{Int64,1}, ::Int64) at ./array.jl:386",
      " in getindex(::Array{Int64,1}, ::Int64) at /Applications/Julia-0.5.app/Contents/Resources/julia/lib/julia/sys.dylib:?"
     ]
    }
   ],
   "source": [
    "x[0]"
   ]
  },
  {
   "cell_type": "markdown",
   "metadata": {},
   "source": [
    "If we want to know the last entry in the array we can access it using the length of the array as the index: "
   ]
  },
  {
   "cell_type": "code",
   "execution_count": 18,
   "metadata": {
    "collapsed": false
   },
   "outputs": [
    {
     "data": {
      "text/plain": [
       "1"
      ]
     },
     "execution_count": 18,
     "metadata": {},
     "output_type": "execute_result"
    }
   ],
   "source": [
    "x[length(x)]"
   ]
  },
  {
   "cell_type": "markdown",
   "metadata": {},
   "source": [
    "This is a bit clunky for something that we might want to do often, so Julia provides a shortcut using the **end** index:"
   ]
  },
  {
   "cell_type": "code",
   "execution_count": 19,
   "metadata": {
    "collapsed": false
   },
   "outputs": [
    {
     "data": {
      "text/plain": [
       "1"
      ]
     },
     "execution_count": 19,
     "metadata": {},
     "output_type": "execute_result"
    }
   ],
   "source": [
    "x[end]"
   ]
  },
  {
   "cell_type": "markdown",
   "metadata": {},
   "source": [
    "We can also access a range of array entries using the colon operator.  Suppose we want to access entries 2 through 4 of the vector $x$: "
   ]
  },
  {
   "cell_type": "code",
   "execution_count": 20,
   "metadata": {
    "collapsed": false
   },
   "outputs": [
    {
     "data": {
      "text/plain": [
       "3-element Array{Int64,1}:\n",
       " 2\n",
       " 8\n",
       " 3"
      ]
     },
     "execution_count": 20,
     "metadata": {},
     "output_type": "execute_result"
    }
   ],
   "source": [
    "x[2:4]"
   ]
  },
  {
   "cell_type": "markdown",
   "metadata": {},
   "source": [
    "Note from the output that this returns another array of the same type as x, but of length 3 instead of 5. Similarly we could get the first two entries of x as "
   ]
  },
  {
   "cell_type": "code",
   "execution_count": 21,
   "metadata": {
    "collapsed": false
   },
   "outputs": [
    {
     "data": {
      "text/plain": [
       "2-element Array{Int64,1}:\n",
       " 6\n",
       " 2"
      ]
     },
     "execution_count": 21,
     "metadata": {},
     "output_type": "execute_result"
    }
   ],
   "source": [
    "x[1:2]"
   ]
  },
  {
   "cell_type": "markdown",
   "metadata": {},
   "source": [
    "or the last two entries of x as "
   ]
  },
  {
   "cell_type": "code",
   "execution_count": 22,
   "metadata": {
    "collapsed": false
   },
   "outputs": [
    {
     "data": {
      "text/plain": [
       "2-element Array{Int64,1}:\n",
       " 3\n",
       " 1"
      ]
     },
     "execution_count": 22,
     "metadata": {},
     "output_type": "execute_result"
    }
   ],
   "source": [
    "x[end-1:end]"
   ]
  },
  {
   "cell_type": "markdown",
   "metadata": {},
   "source": [
    "You can even get all of the entries of $x$ with odd indices:"
   ]
  },
  {
   "cell_type": "code",
   "execution_count": 23,
   "metadata": {
    "collapsed": false
   },
   "outputs": [
    {
     "data": {
      "text/plain": [
       "3-element Array{Int64,1}:\n",
       " 6\n",
       " 8\n",
       " 1"
      ]
     },
     "execution_count": 23,
     "metadata": {},
     "output_type": "execute_result"
    }
   ],
   "source": [
    "x[1:2:end]"
   ]
  },
  {
   "cell_type": "markdown",
   "metadata": {},
   "source": [
    "This syntax for the index range says *starting with the first entry*, *step by 2*, and *stop at the last entry*.\n",
    "\n",
    "<br>\n",
    "\n",
    "Indexing into a matrix works similiarly.  Consider the following matrix"
   ]
  },
  {
   "cell_type": "code",
   "execution_count": 24,
   "metadata": {
    "collapsed": false
   },
   "outputs": [
    {
     "data": {
      "text/plain": [
       "4×3 Array{Int64,2}:\n",
       "  1   2   3\n",
       "  4   5   6\n",
       "  7   8   9\n",
       " 10  11  12"
      ]
     },
     "execution_count": 24,
     "metadata": {},
     "output_type": "execute_result"
    }
   ],
   "source": [
    "A = [1 2 3; 4 5 6; 7 8 9; 10 11 12]"
   ]
  },
  {
   "cell_type": "markdown",
   "metadata": {},
   "source": [
    "To get a specific entry in a matrix we have to provide a row index and a column index.  Just like in standard linear algebra notation the row index is given first, followed by the column index.  The following statements gets the entry of A in the second row and third column: "
   ]
  },
  {
   "cell_type": "code",
   "execution_count": 25,
   "metadata": {
    "collapsed": false
   },
   "outputs": [
    {
     "data": {
      "text/plain": [
       "6"
      ]
     },
     "execution_count": 25,
     "metadata": {},
     "output_type": "execute_result"
    }
   ],
   "source": [
    "A[2, 3]"
   ]
  },
  {
   "cell_type": "markdown",
   "metadata": {},
   "source": [
    "We can also grab particular rows or columns of a matrix.  The following commands get the second column and third row of A, respectively:  "
   ]
  },
  {
   "cell_type": "code",
   "execution_count": 26,
   "metadata": {
    "collapsed": false
   },
   "outputs": [
    {
     "data": {
      "text/plain": [
       "4-element Array{Int64,1}:\n",
       "  2\n",
       "  5\n",
       "  8\n",
       " 11"
      ]
     },
     "execution_count": 26,
     "metadata": {},
     "output_type": "execute_result"
    }
   ],
   "source": [
    "A[:, 2]"
   ]
  },
  {
   "cell_type": "code",
   "execution_count": 27,
   "metadata": {
    "collapsed": false
   },
   "outputs": [
    {
     "data": {
      "text/plain": [
       "3-element Array{Int64,1}:\n",
       " 7\n",
       " 8\n",
       " 9"
      ]
     },
     "execution_count": 27,
     "metadata": {},
     "output_type": "execute_result"
    }
   ],
   "source": [
    "A[3, :]"
   ]
  },
  {
   "cell_type": "markdown",
   "metadata": {},
   "source": [
    "Note that here the colon tells the computer to grab everything along that particular dimension.  Note that we could have also gotten the third row of A by specifying an index range from the start of the row to the end of the row: "
   ]
  },
  {
   "cell_type": "code",
   "execution_count": 28,
   "metadata": {
    "collapsed": false
   },
   "outputs": [
    {
     "data": {
      "text/plain": [
       "3-element Array{Int64,1}:\n",
       " 7\n",
       " 8\n",
       " 9"
      ]
     },
     "execution_count": 28,
     "metadata": {},
     "output_type": "execute_result"
    }
   ],
   "source": [
    "A[3, 1:end]"
   ]
  },
  {
   "cell_type": "markdown",
   "metadata": {},
   "source": [
    "but again, we do things like this so frequently that Julia lets us use the plain colon as a shortcut. \n",
    "\n",
    "<br>\n",
    "\n",
    "We can also grab submatrices of A by providing ranges for the row index and the column index.  Suppose we want to get the submatrix defined by the first three rows and the first two columns of A: "
   ]
  },
  {
   "cell_type": "code",
   "execution_count": 29,
   "metadata": {
    "collapsed": false
   },
   "outputs": [
    {
     "data": {
      "text/plain": [
       "3×2 Array{Int64,2}:\n",
       " 1  2\n",
       " 4  5\n",
       " 7  8"
      ]
     },
     "execution_count": 29,
     "metadata": {},
     "output_type": "execute_result"
    }
   ],
   "source": [
    "A[1:3, 1:2]"
   ]
  },
  {
   "cell_type": "markdown",
   "metadata": {},
   "source": [
    "Similarly, if we wanted the submatrix corresponding to last two rows and the last two columns of A we could use "
   ]
  },
  {
   "cell_type": "code",
   "execution_count": 30,
   "metadata": {
    "collapsed": false
   },
   "outputs": [
    {
     "data": {
      "text/plain": [
       "2×2 Array{Int64,2}:\n",
       "  8   9\n",
       " 11  12"
      ]
     },
     "execution_count": 30,
     "metadata": {},
     "output_type": "execute_result"
    }
   ],
   "source": [
    "A[end-1:end, end-1:end]"
   ]
  },
  {
   "cell_type": "markdown",
   "metadata": {},
   "source": [
    "## Common Vectors and Matrices\n",
    "\n",
    "There are some vectors and matrices that show up so often in linear algebra Julia gives us special functions to generate them.  \n",
    "\n",
    "One of the most common vectors we might use is the zero vector.  This is produced by Julia's `zeros` function.  It takes as its only argument the length of the vector.  The following statement produces a zero vector of length 7:"
   ]
  },
  {
   "cell_type": "code",
   "execution_count": 31,
   "metadata": {
    "collapsed": false
   },
   "outputs": [
    {
     "data": {
      "text/plain": [
       "7-element Array{Float64,1}:\n",
       " 0.0\n",
       " 0.0\n",
       " 0.0\n",
       " 0.0\n",
       " 0.0\n",
       " 0.0\n",
       " 0.0"
      ]
     },
     "execution_count": 31,
     "metadata": {},
     "output_type": "execute_result"
    }
   ],
   "source": [
    "z = zeros(7)"
   ]
  },
  {
   "cell_type": "markdown",
   "metadata": {},
   "source": [
    "Similarly, we can create a zero matrix by passing the function a row dimension and column dimension:"
   ]
  },
  {
   "cell_type": "code",
   "execution_count": 32,
   "metadata": {
    "collapsed": false
   },
   "outputs": [
    {
     "data": {
      "text/plain": [
       "3×4 Array{Float64,2}:\n",
       " 0.0  0.0  0.0  0.0\n",
       " 0.0  0.0  0.0  0.0\n",
       " 0.0  0.0  0.0  0.0"
      ]
     },
     "execution_count": 32,
     "metadata": {},
     "output_type": "execute_result"
    }
   ],
   "source": [
    "Z = zeros(3,4)"
   ]
  },
  {
   "cell_type": "markdown",
   "metadata": {},
   "source": [
    "Another common vector is the vector of all ones.  You can get this from Julia's `ones` function: "
   ]
  },
  {
   "cell_type": "code",
   "execution_count": 33,
   "metadata": {
    "collapsed": false
   },
   "outputs": [
    {
     "data": {
      "text/plain": [
       "5-element Array{Float64,1}:\n",
       " 1.0\n",
       " 1.0\n",
       " 1.0\n",
       " 1.0\n",
       " 1.0"
      ]
     },
     "execution_count": 33,
     "metadata": {},
     "output_type": "execute_result"
    }
   ],
   "source": [
    "n = ones(5)"
   ]
  },
  {
   "cell_type": "code",
   "execution_count": 34,
   "metadata": {
    "collapsed": false
   },
   "outputs": [
    {
     "data": {
      "text/plain": [
       "3×2 Array{Float64,2}:\n",
       " 1.0  1.0\n",
       " 1.0  1.0\n",
       " 1.0  1.0"
      ]
     },
     "execution_count": 34,
     "metadata": {},
     "output_type": "execute_result"
    }
   ],
   "source": [
    "N = ones(3,2)"
   ]
  },
  {
   "cell_type": "markdown",
   "metadata": {},
   "source": [
    "Notice that by default, the `ones` function returns a matrix with entries of type Float64.  This is normally OK, but sometimes we might want an integer type matrix.  I wonder if Julia can do that? \n",
    "\n",
    "Now's probably a good time to introduce the `help` function.  In past versions of Julia `help` was an actual function, which you could use to look up documentation of canned functions via something like `help(my_function)`.  In later releases they changed this to simply the `?` character.  Let's try it with the `ones` function: "
   ]
  },
  {
   "cell_type": "code",
   "execution_count": 37,
   "metadata": {
    "collapsed": false
   },
   "outputs": [
    {
     "name": "stdout",
     "output_type": "stream",
     "text": [
      "search: \u001b[1mo\u001b[22m\u001b[1mn\u001b[22m\u001b[1me\u001b[22m\u001b[1ms\u001b[22m sp\u001b[1mo\u001b[22m\u001b[1mn\u001b[22m\u001b[1me\u001b[22m\u001b[1ms\u001b[22m leading_\u001b[1mo\u001b[22m\u001b[1mn\u001b[22m\u001b[1me\u001b[22m\u001b[1ms\u001b[22m trailing_\u001b[1mo\u001b[22m\u001b[1mn\u001b[22m\u001b[1me\u001b[22m\u001b[1ms\u001b[22m n\u001b[1mo\u001b[22m\u001b[1mn\u001b[22mz\u001b[1me\u001b[22mro\u001b[1ms\u001b[22m c\u001b[1mo\u001b[22mu\u001b[1mn\u001b[22mtlin\u001b[1me\u001b[22m\u001b[1ms\u001b[22m c\u001b[1mo\u001b[22mu\u001b[1mn\u001b[22mt_on\u001b[1me\u001b[22m\u001b[1ms\u001b[22m\n",
      "\n"
     ]
    },
    {
     "data": {
      "text/markdown": [
       "```\n",
       "ones(type, dims)\n",
       "```\n",
       "\n",
       "Create an array of all ones of specified type. The type defaults to `Float64` if not specified.\n",
       "\n",
       "```\n",
       "ones(A)\n",
       "```\n",
       "\n",
       "Create an array of all ones with the same element type and shape as `A`.\n"
      ],
      "text/plain": [
       "```\n",
       "ones(type, dims)\n",
       "```\n",
       "\n",
       "Create an array of all ones of specified type. The type defaults to `Float64` if not specified.\n",
       "\n",
       "```\n",
       "ones(A)\n",
       "```\n",
       "\n",
       "Create an array of all ones with the same element type and shape as `A`.\n"
      ]
     },
     "execution_count": 37,
     "metadata": {},
     "output_type": "execute_result"
    }
   ],
   "source": [
    "?ones"
   ]
  },
  {
   "cell_type": "markdown",
   "metadata": {},
   "source": [
    "The first entry in the documentation for the $\\texttt{ones()}$ function tell us that it takes an optional argument for type.  Let's see what happens when we pass in Int64 as the type: "
   ]
  },
  {
   "cell_type": "code",
   "execution_count": 38,
   "metadata": {
    "collapsed": false
   },
   "outputs": [
    {
     "data": {
      "text/plain": [
       "3×2 Array{Int64,2}:\n",
       " 1  1\n",
       " 1  1\n",
       " 1  1"
      ]
     },
     "execution_count": 38,
     "metadata": {},
     "output_type": "execute_result"
    }
   ],
   "source": [
    "ones(Int64, 3, 2)"
   ]
  },
  {
   "cell_type": "markdown",
   "metadata": {},
   "source": [
    "Notice that this produced a 3 x 2 matrix of all ones with integer type. \n",
    "\n",
    "Probably the most common matrix of all is the **identity** matrix, i.e. a square matrix that has 1's on the main diagonal and zeros everywhere else.  \n",
    "\n",
    "<br>\n",
    "\n",
    "$$\n",
    "I = \n",
    "\\left[\n",
    "\\begin{array}{rrr}\n",
    "1 & 0 & 0 \\\\\n",
    "0 & 1 & 0 \\\\\n",
    "0 & 0 & 1 \n",
    "\\end{array}\n",
    "\\right]\n",
    "$$\n",
    "\n",
    "<br>\n",
    "\n",
    "The Julia function that generates identity matrices is called `eye`.  If we give the `eye` function a single integer argument n it returns an identity matrix of size n x n. "
   ]
  },
  {
   "cell_type": "code",
   "execution_count": 39,
   "metadata": {
    "collapsed": false,
    "scrolled": true
   },
   "outputs": [
    {
     "data": {
      "text/plain": [
       "3×3 Array{Float64,2}:\n",
       " 1.0  0.0  0.0\n",
       " 0.0  1.0  0.0\n",
       " 0.0  0.0  1.0"
      ]
     },
     "execution_count": 39,
     "metadata": {},
     "output_type": "execute_result"
    }
   ],
   "source": [
    "I = eye(3)"
   ]
  },
  {
   "cell_type": "markdown",
   "metadata": {},
   "source": [
    "## Functions and Scripts\n",
    "\n",
    "Function definitions in Julia are very similar to Matlab, but with a few key differences.  Let's look at a few simple examples.  \n",
    "\n",
    "Suppose we want a function that takes two input arguments, determines which argument is larger, and then evaluates a particular cubic polynomial with the larger argument.  In Julia this function would look as follows: "
   ]
  },
  {
   "cell_type": "code",
   "execution_count": 40,
   "metadata": {
    "collapsed": false
   },
   "outputs": [
    {
     "data": {
      "text/plain": [
       "mycubic (generic function with 1 method)"
      ]
     },
     "execution_count": 40,
     "metadata": {},
     "output_type": "execute_result"
    }
   ],
   "source": [
    "# This is a sample Julia function that \n",
    "# evaluates a cubic polynomial at the larger\n",
    "# of the two arguments x1 and x2 \n",
    "\n",
    "function mycubic(x1, x2)\n",
    "    x = max(x1, x2)\n",
    "    y = x^3 + 2*x^2 + 1 \n",
    "    return y \n",
    "end"
   ]
  },
  {
   "cell_type": "code",
   "execution_count": 41,
   "metadata": {
    "collapsed": false
   },
   "outputs": [
    {
     "data": {
      "text/plain": [
       "17"
      ]
     },
     "execution_count": 41,
     "metadata": {},
     "output_type": "execute_result"
    }
   ],
   "source": [
    "z1 = 1\n",
    "z2 = 2 \n",
    "z = mycubic(z1, z2)"
   ]
  },
  {
   "cell_type": "markdown",
   "metadata": {},
   "source": [
    "Note that unlike Matlab, Julia requires an explict return statement for the quantity you want to return (more on this in a minute).\n",
    "\n",
    "What if we want multiple values returned? \n",
    "\n",
    "Consider the following function that takes an angle theta (in radians) and returns both the cosine and sine of the angle:"
   ]
  },
  {
   "cell_type": "code",
   "execution_count": 42,
   "metadata": {
    "collapsed": false
   },
   "outputs": [
    {
     "data": {
      "text/plain": [
       "trigfunction (generic function with 1 method)"
      ]
     },
     "execution_count": 42,
     "metadata": {},
     "output_type": "execute_result"
    }
   ],
   "source": [
    "# This is a sample Julia function that takes\n",
    "# an angle theta and returns it's sine and cosine \n",
    "\n",
    "function trigfunction(theta)\n",
    "    sintheta = sin(theta)\n",
    "    costheta = cos(theta)\n",
    "    return costheta, sintheta\n",
    "end"
   ]
  },
  {
   "cell_type": "code",
   "execution_count": 43,
   "metadata": {
    "collapsed": false
   },
   "outputs": [],
   "source": [
    "c, s = trigfunction(0);"
   ]
  },
  {
   "cell_type": "code",
   "execution_count": 44,
   "metadata": {
    "collapsed": false
   },
   "outputs": [
    {
     "data": {
      "text/plain": [
       "1.0"
      ]
     },
     "execution_count": 44,
     "metadata": {},
     "output_type": "execute_result"
    }
   ],
   "source": [
    "c"
   ]
  },
  {
   "cell_type": "code",
   "execution_count": 45,
   "metadata": {
    "collapsed": false
   },
   "outputs": [
    {
     "data": {
      "text/plain": [
       "0.0"
      ]
     },
     "execution_count": 45,
     "metadata": {},
     "output_type": "execute_result"
    }
   ],
   "source": [
    "s"
   ]
  },
  {
   "cell_type": "markdown",
   "metadata": {},
   "source": [
    "Sometimes we want to write more involved functions and store them in a text files instead of typing them into the notebook or into the REPL.  In Matlab these are stored in m-files with names like myfunction.m.  In Julia we store them in scripts with the .jl extension.  I've placed in this directory a file called `morefun.jl` which looks as follows: \n",
    "\n",
    "```julia\n",
    "# This function evaluates a \n",
    "# quartic polynomial at the larger\n",
    "# of two arguments x1 and x2\n",
    "\n",
    "function myquartic(x1, x2)\n",
    "    x = max(x1, x2)\n",
    "    return x^4 + x^3 + 2*x^2 + 1\n",
    "end \n",
    "\n",
    "# This function takes the x and y\n",
    "# coordinates of a point and returns\n",
    "# the angle that a line drawn from\n",
    "# the origin to (x,y) makes with \n",
    "# the x-axis\n",
    "\n",
    "function invtrigfunction(x, y)\n",
    "    theta = atan(y/x)\n",
    "    return theta\n",
    "end\n",
    "```\n",
    "\n",
    "In this script I've written two new functions.  The first evaluates a quartic function at the larger of two arguments.  The second takes the x and y components of a point and returns the angle that a line from the origin to the point makes with the x-axis.  \n",
    "\n",
    "To make these functions accessible to Julia we have to tell it somehow to look in the file `morefun.jl` for the functions.  We do this using the `require` function. "
   ]
  },
  {
   "cell_type": "code",
   "execution_count": 50,
   "metadata": {
    "collapsed": false
   },
   "outputs": [
    {
     "data": {
      "text/plain": [
       "invtrigfunction (generic function with 1 method)"
      ]
     },
     "execution_count": 50,
     "metadata": {},
     "output_type": "execute_result"
    }
   ],
   "source": [
    "include(\"morefun.jl\")"
   ]
  },
  {
   "cell_type": "markdown",
   "metadata": {},
   "source": [
    "Once the require function has been called, we're free to call any functions defined in the script file.  "
   ]
  },
  {
   "cell_type": "code",
   "execution_count": 51,
   "metadata": {
    "collapsed": false
   },
   "outputs": [
    {
     "data": {
      "text/plain": [
       "33"
      ]
     },
     "execution_count": 51,
     "metadata": {},
     "output_type": "execute_result"
    }
   ],
   "source": [
    "z = myquartic(z1, z2)"
   ]
  },
  {
   "cell_type": "code",
   "execution_count": 52,
   "metadata": {
    "collapsed": false
   },
   "outputs": [
    {
     "data": {
      "text/plain": [
       "0.7853981633974483"
      ]
     },
     "execution_count": 52,
     "metadata": {},
     "output_type": "execute_result"
    }
   ],
   "source": [
    "theta = invtrigfunction(sqrt(2), sqrt(2))"
   ]
  },
  {
   "cell_type": "markdown",
   "metadata": {},
   "source": [
    "## Julia and Pass-By-Reference\n",
    "\n",
    "OK, above I mentioned that Julia requires an explicit return statement for the value returned by the function.  I mentioned this because unlike Matlab, it is somewhat common in Julia to write functions with the intended purpose of modifying one or more of the input arguments.  If this is the intended purpose of the function then a return statement is not necessary. \n",
    "\n",
    "Consider the following example that takes a vector argument, and swaps the first and the last elements of the vector."
   ]
  },
  {
   "cell_type": "code",
   "execution_count": 53,
   "metadata": {
    "collapsed": false
   },
   "outputs": [
    {
     "data": {
      "text/plain": [
       "swapMe! (generic function with 1 method)"
      ]
     },
     "execution_count": 53,
     "metadata": {},
     "output_type": "execute_result"
    }
   ],
   "source": [
    "function swapMe!(x)\n",
    "    temp = x[1]\n",
    "    x[1] = x[end]\n",
    "    x[end] = temp\n",
    "end"
   ]
  },
  {
   "cell_type": "code",
   "execution_count": 54,
   "metadata": {
    "collapsed": false
   },
   "outputs": [
    {
     "data": {
      "text/plain": [
       "4-element Array{Int64,1}:\n",
       " 1\n",
       " 2\n",
       " 3\n",
       " 4"
      ]
     },
     "execution_count": 54,
     "metadata": {},
     "output_type": "execute_result"
    }
   ],
   "source": [
    "v = [1, 2, 3, 4]"
   ]
  },
  {
   "cell_type": "code",
   "execution_count": 55,
   "metadata": {
    "collapsed": false
   },
   "outputs": [],
   "source": [
    "swapMe!(v);"
   ]
  },
  {
   "cell_type": "code",
   "execution_count": 56,
   "metadata": {
    "collapsed": false
   },
   "outputs": [
    {
     "data": {
      "text/plain": [
       "4-element Array{Int64,1}:\n",
       " 4\n",
       " 2\n",
       " 3\n",
       " 1"
      ]
     },
     "execution_count": 56,
     "metadata": {},
     "output_type": "execute_result"
    }
   ],
   "source": [
    "v"
   ]
  },
  {
   "cell_type": "markdown",
   "metadata": {},
   "source": [
    "Notice that the function `swapMe!` did not return anything, but actually modified the input argument v. This is possible in Julia because arguments are passed by **reference**.  In other words, when we pass an array (or matrix) into a function, it does not automatically make a local copy of the argument that will live and die inside of the function call.  This is extremely handy in computational linear algebra because sometimes we want to pass a large matrix into a function and change some of the values.  Not making an extra copy often saves us loads of extra time and memory. \n",
    "\n",
    "Another note: I did not add the exclamation point at the end of `swapMe!` because I get super excited about swapping the ends of vectors.  It's convention in Julia to add an exclamation point at the end of any function name that changes one of its input arguments, whether it is the intended purpose of the function, or just a side-effect. \n",
    "\n",
    "Julia also uses pass-by-reference in assignment.  Consider creating a matrix A and then defining a matrix B by setting it equal to A.  "
   ]
  },
  {
   "cell_type": "code",
   "execution_count": 57,
   "metadata": {
    "collapsed": false
   },
   "outputs": [],
   "source": [
    "A = [1 2; 3 4]\n",
    "B = A;"
   ]
  },
  {
   "cell_type": "code",
   "execution_count": 58,
   "metadata": {
    "collapsed": false
   },
   "outputs": [
    {
     "data": {
      "text/plain": [
       "2×2 Array{Int64,2}:\n",
       " 1  2\n",
       " 3  4"
      ]
     },
     "execution_count": 58,
     "metadata": {},
     "output_type": "execute_result"
    }
   ],
   "source": [
    "A"
   ]
  },
  {
   "cell_type": "code",
   "execution_count": 59,
   "metadata": {
    "collapsed": false
   },
   "outputs": [
    {
     "data": {
      "text/plain": [
       "2×2 Array{Int64,2}:\n",
       " 1  2\n",
       " 3  4"
      ]
     },
     "execution_count": 59,
     "metadata": {},
     "output_type": "execute_result"
    }
   ],
   "source": [
    "B"
   ]
  },
  {
   "cell_type": "markdown",
   "metadata": {},
   "source": [
    "Since assignment in Julia is pass-by-reference, matrices A and B are really the same, in the sense that both names `A` and `B` point to the same place in memory.  This means that if I modify `B` it will also modify `A`."
   ]
  },
  {
   "cell_type": "code",
   "execution_count": 60,
   "metadata": {
    "collapsed": false
   },
   "outputs": [],
   "source": [
    "B[1,1] = 7;"
   ]
  },
  {
   "cell_type": "code",
   "execution_count": 61,
   "metadata": {
    "collapsed": false
   },
   "outputs": [
    {
     "data": {
      "text/plain": [
       "2×2 Array{Int64,2}:\n",
       " 7  2\n",
       " 3  4"
      ]
     },
     "execution_count": 61,
     "metadata": {},
     "output_type": "execute_result"
    }
   ],
   "source": [
    "B"
   ]
  },
  {
   "cell_type": "code",
   "execution_count": 62,
   "metadata": {
    "collapsed": false
   },
   "outputs": [
    {
     "data": {
      "text/plain": [
       "2×2 Array{Int64,2}:\n",
       " 7  2\n",
       " 3  4"
      ]
     },
     "execution_count": 62,
     "metadata": {},
     "output_type": "execute_result"
    }
   ],
   "source": [
    "A"
   ]
  },
  {
   "cell_type": "markdown",
   "metadata": {},
   "source": [
    "This actually has it's ups and downs.  Lots of times we like to initialize the value of a new array to the value of an existing array, with the intent of then modifying the new array.  This can be dangerous if we want the old array to remain the same. To define an array to be a bonifide **copy** of an existing array we use the `copy` function. "
   ]
  },
  {
   "cell_type": "code",
   "execution_count": 63,
   "metadata": {
    "collapsed": false
   },
   "outputs": [
    {
     "data": {
      "text/plain": [
       "2×2 Array{Int64,2}:\n",
       " 7  2\n",
       " 3  4"
      ]
     },
     "execution_count": 63,
     "metadata": {},
     "output_type": "execute_result"
    }
   ],
   "source": [
    "C = copy(A)"
   ]
  },
  {
   "cell_type": "code",
   "execution_count": 64,
   "metadata": {
    "collapsed": false
   },
   "outputs": [],
   "source": [
    "C[1,1] = 10;"
   ]
  },
  {
   "cell_type": "code",
   "execution_count": 65,
   "metadata": {
    "collapsed": false
   },
   "outputs": [
    {
     "data": {
      "text/plain": [
       "2×2 Array{Int64,2}:\n",
       " 10  2\n",
       "  3  4"
      ]
     },
     "execution_count": 65,
     "metadata": {},
     "output_type": "execute_result"
    }
   ],
   "source": [
    "C"
   ]
  },
  {
   "cell_type": "code",
   "execution_count": 66,
   "metadata": {
    "collapsed": false,
    "scrolled": true
   },
   "outputs": [
    {
     "data": {
      "text/plain": [
       "2×2 Array{Int64,2}:\n",
       " 7  2\n",
       " 3  4"
      ]
     },
     "execution_count": 66,
     "metadata": {},
     "output_type": "execute_result"
    }
   ],
   "source": [
    "A"
   ]
  },
  {
   "cell_type": "markdown",
   "metadata": {},
   "source": [
    "Note that this time the value of A did not change, because C is legitmate copy of A and an entirely different matrix. "
   ]
  },
  {
   "cell_type": "markdown",
   "metadata": {},
   "source": [
    "## Control Statements\n",
    "\n",
    "Julia contains the usual `for`, `while`, and `if` statements.  The syntax for each of these is identical to their Matlab counterparts. "
   ]
  },
  {
   "cell_type": "markdown",
   "metadata": {},
   "source": [
    "### for statement\n",
    "\n",
    "Suppose we want to use a for-loop to sum up the entries of a vector: "
   ]
  },
  {
   "cell_type": "code",
   "execution_count": 67,
   "metadata": {
    "collapsed": false
   },
   "outputs": [],
   "source": [
    "x = [1, 2, 3, 4, 5]\n",
    "sx = 0\n",
    "for ii = 1 : length(x)\n",
    "    sx = sx + x[ii]\n",
    "end "
   ]
  },
  {
   "cell_type": "code",
   "execution_count": 68,
   "metadata": {
    "collapsed": false
   },
   "outputs": [
    {
     "data": {
      "text/plain": [
       "15"
      ]
     },
     "execution_count": 68,
     "metadata": {},
     "output_type": "execute_result"
    }
   ],
   "source": [
    "sx"
   ]
  },
  {
   "cell_type": "markdown",
   "metadata": {},
   "source": [
    "For-loops can of course be nested as well, useful if you want to sum up all of the entries in a matrix. "
   ]
  },
  {
   "cell_type": "code",
   "execution_count": 69,
   "metadata": {
    "collapsed": true
   },
   "outputs": [],
   "source": [
    "A = [1 2 3; 4 5 6; 7 8 9]\n",
    "sA = 0 \n",
    "for ii = 1 : size(A, 1)\n",
    "    for jj = 1 : size(A, 2)\n",
    "        sA = sA + A[ii,jj]\n",
    "    end\n",
    "end"
   ]
  },
  {
   "cell_type": "code",
   "execution_count": 70,
   "metadata": {
    "collapsed": false
   },
   "outputs": [
    {
     "data": {
      "text/plain": [
       "45"
      ]
     },
     "execution_count": 70,
     "metadata": {},
     "output_type": "execute_result"
    }
   ],
   "source": [
    "sA"
   ]
  },
  {
   "cell_type": "markdown",
   "metadata": {},
   "source": [
    "### if and if-else statements\n",
    "\n",
    "Suppose we have a matrix and we want to filter its entries by size.  In particular, we decide that any entry in the matrix that is less than 0.5 we deem unimportant and set it to zero.  We'll try this on a randomly generated matrix constructed using the `rand` function."
   ]
  },
  {
   "cell_type": "code",
   "execution_count": 71,
   "metadata": {
    "collapsed": false
   },
   "outputs": [
    {
     "data": {
      "text/plain": [
       "5×5 Array{Float64,2}:\n",
       " 0.259976  0.897227  0.514537  0.342378  0.178309\n",
       " 0.361043  0.708807  0.471766  0.416303  0.84898 \n",
       " 0.899016  0.734466  0.84843   0.372704  0.815317\n",
       " 0.339039  0.681433  0.931191  0.541364  0.526712\n",
       " 0.378267  0.202262  0.309116  0.423828  0.895039"
      ]
     },
     "execution_count": 71,
     "metadata": {},
     "output_type": "execute_result"
    }
   ],
   "source": [
    "A = rand(5,5)"
   ]
  },
  {
   "cell_type": "code",
   "execution_count": 72,
   "metadata": {
    "collapsed": true
   },
   "outputs": [],
   "source": [
    "for ii = 1 : size(A, 1)\n",
    "    for jj = 1 : size(A, 2)\n",
    "        if A[ii, jj] < 0.5 \n",
    "            A[ii, jj] = 0.0\n",
    "        end\n",
    "    end\n",
    "end"
   ]
  },
  {
   "cell_type": "code",
   "execution_count": 73,
   "metadata": {
    "collapsed": false
   },
   "outputs": [
    {
     "data": {
      "text/plain": [
       "5×5 Array{Float64,2}:\n",
       " 0.0       0.897227  0.514537  0.0       0.0     \n",
       " 0.0       0.708807  0.0       0.0       0.84898 \n",
       " 0.899016  0.734466  0.84843   0.0       0.815317\n",
       " 0.0       0.681433  0.931191  0.541364  0.526712\n",
       " 0.0       0.0       0.0       0.0       0.895039"
      ]
     },
     "execution_count": 73,
     "metadata": {},
     "output_type": "execute_result"
    }
   ],
   "source": [
    "A"
   ]
  },
  {
   "cell_type": "markdown",
   "metadata": {},
   "source": [
    "Now suppose we don't actually care what the values of the big elements of the matrix are, we just care that they're big.  Instead of leaving the big entries alone, we could set them to 1.  "
   ]
  },
  {
   "cell_type": "code",
   "execution_count": 74,
   "metadata": {
    "collapsed": false
   },
   "outputs": [
    {
     "data": {
      "text/plain": [
       "5×5 Array{Float64,2}:\n",
       " 0.0665388  0.496513  0.0523831  0.56371    0.111009\n",
       " 0.300034   0.73202   0.323706   0.0763056  0.641285\n",
       " 0.672801   0.245529  0.408353   0.310324   0.667951\n",
       " 0.408937   0.925637  0.012258   0.0967653  0.370639\n",
       " 0.606211   0.832266  0.534631   0.357557   0.951798"
      ]
     },
     "execution_count": 74,
     "metadata": {},
     "output_type": "execute_result"
    }
   ],
   "source": [
    "B = rand(5,5)"
   ]
  },
  {
   "cell_type": "code",
   "execution_count": 75,
   "metadata": {
    "collapsed": true
   },
   "outputs": [],
   "source": [
    "for ii = 1 : size(B, 1)\n",
    "    for jj = 1 : size(B, 2)\n",
    "        if B[ii, jj] < 0.5 \n",
    "            B[ii, jj] = 0.0\n",
    "        else\n",
    "            B[ii, jj] = 1.0\n",
    "        end\n",
    "    end\n",
    "end"
   ]
  },
  {
   "cell_type": "code",
   "execution_count": 76,
   "metadata": {
    "collapsed": false
   },
   "outputs": [
    {
     "data": {
      "text/plain": [
       "5×5 Array{Float64,2}:\n",
       " 0.0  0.0  0.0  1.0  0.0\n",
       " 0.0  1.0  0.0  0.0  1.0\n",
       " 1.0  0.0  0.0  0.0  1.0\n",
       " 0.0  1.0  0.0  0.0  0.0\n",
       " 1.0  1.0  1.0  0.0  1.0"
      ]
     },
     "execution_count": 76,
     "metadata": {},
     "output_type": "execute_result"
    }
   ],
   "source": [
    "B"
   ]
  },
  {
   "cell_type": "markdown",
   "metadata": {},
   "source": [
    "### while statement\n",
    "\n",
    "Suppose I want to know how many times I need to flip a coin before 50 (non-consecutive) heads appear.  We'll simulate flipping a coin by generating random integers between 0 and 1 using the `rand` function (the `rand` function is really a collection of a bunch of methods.  Type `help(rand)` to see everything it can do).  If we associate 1 with heads and 0 with tails, we'll simply keep flipping until 1 appears 50 times. "
   ]
  },
  {
   "cell_type": "code",
   "execution_count": 77,
   "metadata": {
    "collapsed": true
   },
   "outputs": [],
   "source": [
    "numFlips = 0 \n",
    "numHeads = 0 \n",
    "while numHeads < 50 \n",
    "    flip = rand(0:1)\n",
    "    numFlips = numFlips + 1 \n",
    "    if flip == 1 \n",
    "        numHeads = numHeads + 1 \n",
    "    end\n",
    "end "
   ]
  },
  {
   "cell_type": "code",
   "execution_count": 78,
   "metadata": {
    "collapsed": false
   },
   "outputs": [
    {
     "data": {
      "text/plain": [
       "115"
      ]
     },
     "execution_count": 78,
     "metadata": {},
     "output_type": "execute_result"
    }
   ],
   "source": [
    "numFlips"
   ]
  },
  {
   "cell_type": "markdown",
   "metadata": {},
   "source": [
    "## Loops and Timing \n",
    "\n",
    "One of the wonderfull things about Julia is that it does not suffer from the **slow-loop** problems that Matlab does.  In Matlab it's almost always better to use a canned routine when available instead of writing your own function that involves loops.  As an example, you might try generating a really long random vector in Matlab, and compare the time it takes to sum the entries with a loop versus the time it takes using the canned `sum` function. \n",
    "\n",
    "On my machine it took Matlab 0.0014 seconds to sum a random vector with 100K entries using the `sum` function, and 0.017 seconds to sum the same vector using loops.  \n",
    "\n",
    "Let's see what happens when we compare Julia's `sum` command and equivalent loop implementation.  We'll time the computation using Julia's @time macro: "
   ]
  },
  {
   "cell_type": "code",
   "execution_count": 79,
   "metadata": {
    "collapsed": false
   },
   "outputs": [],
   "source": [
    "x = rand(1000000);"
   ]
  },
  {
   "cell_type": "code",
   "execution_count": 80,
   "metadata": {
    "collapsed": false
   },
   "outputs": [
    {
     "name": "stdout",
     "output_type": "stream",
     "text": [
      "  0.053422 seconds (13.62 k allocations: 628.434 KB)\n"
     ]
    },
    {
     "data": {
      "text/plain": [
       "500179.9954012247"
      ]
     },
     "execution_count": 80,
     "metadata": {},
     "output_type": "execute_result"
    }
   ],
   "source": [
    "@time sum(x)"
   ]
  },
  {
   "cell_type": "markdown",
   "metadata": {},
   "source": [
    "Well crap, that's way slower than Matlab.  Actually, the slowness lies in Julia's JIT (just in time) compiler.  The first time you run a function during a session, Julia looks at the arguments that you've passed to it, finds the routine that matches the argument type, compiles it, and then runs it.  The compile overhead actually takes a bit of time.  But watch what happens when we run it agian.  "
   ]
  },
  {
   "cell_type": "code",
   "execution_count": 81,
   "metadata": {
    "collapsed": false
   },
   "outputs": [
    {
     "name": "stdout",
     "output_type": "stream",
     "text": [
      "  0.000708 seconds (5 allocations: 176 bytes)\n"
     ]
    },
    {
     "data": {
      "text/plain": [
       "500179.9954012247"
      ]
     },
     "execution_count": 81,
     "metadata": {},
     "output_type": "execute_result"
    }
   ],
   "source": [
    "@time sum(x)"
   ]
  },
  {
   "cell_type": "markdown",
   "metadata": {},
   "source": [
    "OK, that's way better.  But what happens if we roll our own sum function with loops?"
   ]
  },
  {
   "cell_type": "code",
   "execution_count": 82,
   "metadata": {
    "collapsed": false
   },
   "outputs": [
    {
     "data": {
      "text/plain": [
       "mySum (generic function with 1 method)"
      ]
     },
     "execution_count": 82,
     "metadata": {},
     "output_type": "execute_result"
    }
   ],
   "source": [
    "function mySum(z)\n",
    "    s = 0.0\n",
    "    for ii = 1 : length(z)\n",
    "        s = s + z[ii]\n",
    "    end\n",
    "    return s\n",
    "end"
   ]
  },
  {
   "cell_type": "code",
   "execution_count": 83,
   "metadata": {
    "collapsed": false
   },
   "outputs": [
    {
     "name": "stdout",
     "output_type": "stream",
     "text": [
      "  0.009618 seconds (1.61 k allocations: 75.002 KB)\n"
     ]
    },
    {
     "data": {
      "text/plain": [
       "500179.99540122476"
      ]
     },
     "execution_count": 83,
     "metadata": {},
     "output_type": "execute_result"
    }
   ],
   "source": [
    "@time mySum(x)"
   ]
  },
  {
   "cell_type": "markdown",
   "metadata": {},
   "source": [
    "OK, that was the slow one where Julia had to convert our little script into machine code.  Now let's run it again. "
   ]
  },
  {
   "cell_type": "code",
   "execution_count": 84,
   "metadata": {
    "collapsed": false
   },
   "outputs": [
    {
     "name": "stdout",
     "output_type": "stream",
     "text": [
      "  0.001292 seconds (5 allocations: 176 bytes)\n"
     ]
    },
    {
     "data": {
      "text/plain": [
       "500179.99540122476"
      ]
     },
     "execution_count": 84,
     "metadata": {},
     "output_type": "execute_result"
    }
   ],
   "source": [
    "@time mySum(x)"
   ]
  },
  {
   "cell_type": "markdown",
   "metadata": {},
   "source": [
    "OK, that's much better.  The looped version of our sum function is only about a third slower than the canned sum function, and actually faster than both of the Matlab implementions.  We could probably improve the performance even more by telling Julia exactly what types of arguments we plan to pass our function, but let's quit while we're ahead."
   ]
  },
  {
   "cell_type": "markdown",
   "metadata": {},
   "source": [
    "<br>\n",
    "\n",
    "## Simple Plots\n",
    "\n",
    "There are a few choices for plotting libraries in Julia.  The most common option is [PyPlot](https://github.com/JuliaPy/PyPlot.jl), which provides a Julia interface to python's matplotlib library.  Other options include the [Gadfly](http://gadflyjl.org/stable/) and [Winston](https://github.com/JuliaGraphics/Winston.jl) libraries.\n",
    "\n",
    "To enable the PyPlot package execute the following statement: "
   ]
  },
  {
   "cell_type": "code",
   "execution_count": null,
   "metadata": {
    "collapsed": false
   },
   "outputs": [],
   "source": [
    "using PyPlot"
   ]
  },
  {
   "cell_type": "markdown",
   "metadata": {},
   "source": [
    "The **using** command is the standard method for loading external packages available in Julia.  \n",
    "\n",
    "The following statements generate a plot of the sine function on the interval $\\left[0, 2\\pi\\right]$:"
   ]
  },
  {
   "cell_type": "code",
   "execution_count": 94,
   "metadata": {
    "collapsed": false
   },
   "outputs": [
    {
     "data": {
      "image/png": "[encoded data removed]",
      "text/plain": [
       "PyPlot.Figure(PyObject <matplotlib.figure.Figure object at 0x32d1fff90>)"
      ]
     },
     "metadata": {},
     "output_type": "display_data"
    }
   ],
   "source": [
    "x = linspace(0,2*pi,50)\n",
    "y = sin(x)\n",
    "plot(x, y);"
   ]
  },
  {
   "cell_type": "markdown",
   "metadata": {},
   "source": [
    "The statement **x = linspace(0,2*pi,50)** creates an array of 50 equally spaced values starting at 0 and ending (roughly) at $2\\pi$.  You can check the type and length of the resulting vector x by typing x in a code cell and executing it."
   ]
  },
  {
   "cell_type": "code",
   "execution_count": 97,
   "metadata": {
    "collapsed": false
   },
   "outputs": [
    {
     "data": {
      "text/plain": [
       "50-element LinSpace{Float64}:\n",
       " 0.0,0.128228,0.256457,0.384685,0.512913,…,5.8985,6.02673,6.15496,6.28319"
      ]
     },
     "execution_count": 97,
     "metadata": {},
     "output_type": "execute_result"
    }
   ],
   "source": [
    "x"
   ]
  },
  {
   "cell_type": "markdown",
   "metadata": {},
   "source": [
    "This above example is the most basic plot using PyPlot.  We can do all kinds of things to make it look nicer.  "
   ]
  },
  {
   "cell_type": "code",
   "execution_count": 98,
   "metadata": {
    "collapsed": false
   },
   "outputs": [
    {
     "data": {
      "image/png": "[encoded data removed]",
      "text/plain": [
       "PyPlot.Figure(PyObject <matplotlib.figure.Figure object at 0x32d369b90>)"
      ]
     },
     "metadata": {},
     "output_type": "display_data"
    }
   ],
   "source": [
    "plot(x,  y)\n",
    "xlabel(\"x\")\n",
    "ylabel(\"y\")\n",
    "title(\"sin(x)\")\n",
    "grid(\"on\")\n",
    "margins(0.05);"
   ]
  },
  {
   "cell_type": "markdown",
   "metadata": {},
   "source": [
    "## Wrap Up\n",
    "\n",
    "This has been a whirlwind tour of basic Julia functionality, but we really just scratched the surface.  Head over to the documentation page on [julialang.org](https://docs.julialang.org/en/stable/) and check out the rest.  If you want to see a nice list of the major differences between Julia and other prototyping languages (including Matlab) you can do so [here](http://web.mit.edu/julia_v0.5.0/.julia-3c9d75391c.amd64_ubuntu1404/share/doc/julia/html/manual/noteworthy-differences.html).\n",
    "\n",
    "If you would like to interact directly with this notebook, or others that I post throughout the course, you can sync JuliaBox directly to the course github repository.  While logged into JuliaBox, click on the Sync tab and enter the following address into the box marked `Git Clone URL` : \n",
    "\n",
    ">`https://github.com/chrisketelsen/courses.git`\n",
    "\n",
    "Finally, click the sync button (the spinning wheel icon) to sync the material. This will create a directory called `courses` in your main JuliaBox containing everything in the repository. In that directory you'll find `appm6640/resources/StartingJulia.ipynb`, which is this document.  Feel free to play with and modify any of the available notebooks. As more things get added to the repo you can update your copy by returning to the Sync tab and re-syncing the repository.  "
   ]
  }
 ],
 "metadata": {
  "kernelspec": {
   "display_name": "Julia 0.5.2",
   "language": "julia",
   "name": "julia-0.5"
  },
  "language_info": {
   "file_extension": ".jl",
   "mimetype": "application/julia",
   "name": "julia",
   "version": "0.5.2"
  }
 },
 "nbformat": 4,
 "nbformat_minor": 0
}
