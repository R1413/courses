{
 "cells": [
  {
   "cell_type": "markdown",
   "metadata": {},
   "source": [
    "# Homework 8: Factoring Large Numbers \n",
    "***\n",
    "\n",
    "**Due Date**: 24 March by 11:55pm on Moodle\n",
    "\n",
    "**Notice**: This is an official Programming Assignment, and as per the syllabus, counts as two standard homework assignments.  If you elect not to do this assignment it will count as both of your dropped homeworks for the semester. \n",
    "\n",
    "\n",
    "### Main Problem Description\n",
    "***\n",
    "\n",
    "You are given a number $n$ that is a product of two large prime numbers, $p$ and $q$.  Your job is to find the prime factors $p$ and $q$ as quickly as possible.\n",
    "\n",
    "A list of numbers can be found in [composite_list.txt](https://github.com/chrisketelsen/courses/blob/master/csci2824/hmwk/hmwk08/composite_list.txt) in this GitHub repository.  Use this list to test and calibrate your code.  Ideally, your code should be able to factor any number in the list in less than a minute. How far can your code go down the list? \n",
    "\n",
    "### Sub-Problem Description\n",
    "***\n",
    "\n",
    "As a sub-project, once you have your factorizer in place, you will be able to break certain toy RSA encrypted messages.  There are Python scripts located in the GitHub repository that will automate the process for you.  I demonstrate their use further down in the assignment description.  \n",
    "\n",
    "**Note**: You can get full marks on this Homework without decoding any of the messages, but where's the fun in that?!\n",
    "\n",
    "### Approach\n",
    "***\n",
    "\n",
    "The simple approach is to improve upon the following brute-force method: "
   ]
  },
  {
   "cell_type": "code",
   "execution_count": 7,
   "metadata": {
    "collapsed": true
   },
   "outputs": [],
   "source": [
    "from math import sqrt\n",
    "\n",
    "def findOneFactor(n):\n",
    "    m = int(sqrt(n))\n",
    "    for i in range(2,m+1):\n",
    "        if n % i == 0: \n",
    "            return i "
   ]
  },
  {
   "cell_type": "markdown",
   "metadata": {},
   "source": [
    "Some things that you should figure out on your own: \n",
    "\n",
    "**Basic**: \n",
    "\n",
    "- The brute force approach works OK for small integers.  However, the numbers involved can be easily bigger than machine native integer types.  If you're OK working in Python then this isn't a problem as it supports arbitrary precision integers.  But, Python is slooooow.  If you prefer to work in C++ then you'll have to figure out how to deal with gigantic integers.  Can you work with exact arithmetic packages or BigNums in whichever language you choose? \n",
    "- Can you skip over certain numbers? \n",
    "    - The brute-force approach tests even integers as well as odd. \n",
    "    - We can do a better job of tackling multiples of 3. But what about $5$, $7$, $11$, $\\ldots$\n",
    "    \n",
    "**Advanced**: \n",
    "    \n",
    "- Can you employ some kind of parallelism or multithreading? \n",
    "- Should you consider advanced algorithms?  There are several that are reasonably accessible, like Pollard's Rho Algorithm, for example.  Can you understand it? Can you implement it? \n",
    "\n",
    "### Rules\n",
    "***\n",
    "Please adhere to the rules below.  Not doing so constitutes *cheating* and a violation of the honor code: \n",
    "- You cannot take code someone else wrote on the internet and pass it off as your own. \n",
    "- You cannot take someone else's code, edit it, and pass it off as your own. \n",
    "\n",
    "It is very easy to find out if you did so using sophisticated plagarism-detecting tools that we will run. \n",
    "\n",
    "We will start with the assumption that assignments will be graded by running your demo code and reading your writeup.  If people are submitting sketchy things we will default to interview grading, so please do not submit anything that you cannot fully explain. \n",
    "\n",
    "You can work this assignment solo, or team up with a friend (at most two students per team). Note that a max group-size of two means a max group-size of two.  Four people working together and sharing code is a group of four, not two groups of two. \n",
    "\n",
    "### Deliverables\n",
    "***\n",
    "1. Code tarball with detailed instructions on how to run your code \n",
    "2. A short pdf writeup detailing what was done, a summary of your results, and any observations that you've made. \n",
    "\n",
    "**Note**: If you work in a group only **ONE** person from your group should submit to Moodle.  List the names of both group members clearly in the header of your code, as well as on your writeup. \n",
    "\n",
    "### Grading\n",
    "***\n",
    "Let's say that the baseline is a C-.  You get bumps in your score for doing more than the bare minimum (which would be to turn in the function above, along with a reasonable writeup). Suggested things that will help increase your grade \n",
    "\n",
    "**Basics**: \n",
    "1. Code compiles OK? \n",
    "2. Code works and has been tested?\n",
    "3. Code handles arbitrary precision integers and does not overflow? \n",
    "4. Code is cleanly written, documented, and easy to use? \n",
    "5. Can handle some 15 digit numbers in under 30 seconds? \n",
    "6. Can handle some 20 digit numbers in under 30 seconds? \n",
    "\n",
    "**Advanced**: \n",
    "1. Comparing different approaches, collecting some data, and drawing reasonable conclusions. \n",
    "2. Some innovated attempts to improve performance. \n",
    "3. Can decrypt most of the messages given below. \n",
    "\n",
    "### Python Code for RSA\n",
    "***\n",
    "\n",
    "You will need three python files to do the RSA sub-problem: \n",
    "- [rsaKeyGen.py](https://github.com/chrisketelsen/courses/blob/master/csci2824/hmwk/hmwk08/rsaKeyGen.py)\n",
    "- [rsaencode.py](https://github.com/chrisketelsen/courses/blob/master/csci2824/hmwk/hmwk08/rsaencode.py)\n",
    "- [rsadecode.py](https://github.com/chrisketelsen/courses/blob/master/csci2824/hmwk/hmwk08/rsadecode.py)\n",
    "\n",
    "Here is a simple demo of how to use them to encode and decode messages. Note that all commands shown below are assumed to be run from the terminal. \n",
    "\n",
    "### Step 1: Make up some RSA Keys \n",
    "***\n",
    "\n",
    "To create a key, we run "
   ]
  },
  {
   "cell_type": "code",
   "execution_count": null,
   "metadata": {
    "collapsed": true
   },
   "outputs": [],
   "source": [
    "python rsaKeyGen.py 20"
   ]
  },
  {
   "cell_type": "markdown",
   "metadata": {},
   "source": [
    "The argument $20$ to the command above tells the program that you want keys of 20 digits long.  Note that the prime factors are generated randomly, so you will get a different output each time.  The output should look similar to the following: "
   ]
  },
  {
   "cell_type": "code",
   "execution_count": null,
   "metadata": {
    "collapsed": true
   },
   "outputs": [],
   "source": [
    "p =  17702904835486063091  q =  90289731234779821819\n",
    "n =  1598390519670920733689549921762772382529\n",
    "e =  532796839890306911193852428564168832541\n",
    "d =  1065593679780613822387704857128337665081"
   ]
  },
  {
   "cell_type": "markdown",
   "metadata": {},
   "source": [
    "where here, $(e,n)$ is the public key and $(d,n)$ is the private key.  We can now create two key files, one called publickkey.txt and one called privatekey.txt.  You can choose other names if you prefer.  \n",
    "\n",
    "The file publickey.txt should contain two lines with the first line $n$ and the second line $e$.  For our example, publickey.txt will look like "
   ]
  },
  {
   "cell_type": "code",
   "execution_count": null,
   "metadata": {
    "collapsed": true
   },
   "outputs": [],
   "source": [
    "1598390519670920733689549921762772382529\n",
    "532796839890306911193852428564168832541"
   ]
  },
  {
   "cell_type": "markdown",
   "metadata": {},
   "source": [
    "Similarly, privatekey.txt should contain two lines with the first line $n$ and the second line $d$.  For example, privatekey.txt will look like"
   ]
  },
  {
   "cell_type": "code",
   "execution_count": null,
   "metadata": {
    "collapsed": true
   },
   "outputs": [],
   "source": [
    "1598390519670920733689549921762772382529\n",
    "1065593679780613822387704857128337665081"
   ]
  },
  {
   "cell_type": "markdown",
   "metadata": {},
   "source": [
    "**Note** The script also takes optional command line arguments.  For instance, if you pass it a $p$ and a $q$ at the command line, it will return the associated public and private keys.  When you use your factorizer to break toy encryptions you will need to use this feature. "
   ]
  },
  {
   "cell_type": "markdown",
   "metadata": {},
   "source": [
    "### Step 2: Encoding a Message\n",
    "***\n",
    "\n",
    "To encode a new message, run the script rsaencode.py "
   ]
  },
  {
   "cell_type": "code",
   "execution_count": null,
   "metadata": {
    "collapsed": true
   },
   "outputs": [],
   "source": [
    "python rsaencode.py "
   ]
  },
  {
   "cell_type": "markdown",
   "metadata": {},
   "source": [
    "It will prompt you for various things: "
   ]
  },
  {
   "cell_type": "code",
   "execution_count": null,
   "metadata": {
    "collapsed": true
   },
   "outputs": [],
   "source": [
    "Enter the string to encode: You'll never catch me, Copper!\n",
    "    \n",
    "Enter key file: publickey.txt \n",
    "    \n",
    " >> I will read keys from:  publickey.txt\n",
    "    \n",
    " >> Encoded Message Stream:  [787611330473518491344459996541643197101L, 231322456613215900034492519984547878321L, 299061959088695656247531155090995352552L, 81275457728967748660767642156733038329L, 225070498326372227060587316741722259988L, 225070498326372227060587316741722259988L, 599484394949972756284838808511064056395L, 110L, 101L, 1311504039063131626099971275392989242784L, 101L, 114L, 599484394949972756284838808511064056395L, 206314623465841208138871707013245404989L, 1267740331055225915282634852693209914453L, 116L, 206314623465841208138871707013245404989L, 104L, 599484394949972756284838808511064056395L, 109L, 101L, 44L, 599484394949972756284838808511064056395L, 143934788201715961548764850833941400478L, 231322456613215900034492519984547878321L, 112L, 112L, 101L, 114L, 33L, 599484394949972756284838808511064056395L]\n",
    "    \n",
    "Where should I write the encoded message to? message.txt \n",
    "\n",
    " >> done. "
   ]
  },
  {
   "cell_type": "markdown",
   "metadata": {},
   "source": [
    "Using the public key in publickey.txt the message \"You'll never catch me, Copper!\" has been encoded into a stream of numbers and written out to the file message.txt. \n",
    "\n",
    "### Step 3: Decoding a Message\n",
    "***\n",
    "\n",
    "The file message.txt created in Step 2 has a bunch of numbers in it.  We'll decode it using the script rsadecode.py. "
   ]
  },
  {
   "cell_type": "code",
   "execution_count": null,
   "metadata": {
    "collapsed": true
   },
   "outputs": [],
   "source": [
    "python rsadecode.py "
   ]
  },
  {
   "cell_type": "markdown",
   "metadata": {},
   "source": [
    "Here is how the run will look "
   ]
  },
  {
   "cell_type": "code",
   "execution_count": null,
   "metadata": {
    "collapsed": true
   },
   "outputs": [],
   "source": [
    "Enter filename to decode: message.txt \n",
    "    \n",
    " >> OK! Encoded msg: [787611330473518491344459996541643197101L, 231322456613215900034492519984547878321L, 299061959088695656247531155090995352552L, 81275457728967748660767642156733038329L, 225070498326372227060587316741722259988L, 225070498326372227060587316741722259988L, 599484394949972756284838808511064056395L, 110, 101, 1311504039063131626099971275392989242784L, 101, 114, 599484394949972756284838808511064056395L, 206314623465841208138871707013245404989L, 1267740331055225915282634852693209914453L, 116, 206314623465841208138871707013245404989L, 104, 599484394949972756284838808511064056395L, 109, 101, 44, 599484394949972756284838808511064056395L, 143934788201715961548764850833941400478L, 231322456613215900034492519984547878321L, 112, 112, 101, 114, 33, 599484394949972756284838808511064056395L]\n",
    "    \n",
    "Enter key file:  privatekey.txt\n",
    "\n",
    " >> I will read keys from:  privatekey.txt\n",
    "    \n",
    " >> n= 1598390519670920733689549921762772382529L d= 1065593679780613822387704857128337665081\n",
    "\n",
    " >> decoded message:  You'll never catch me, Copper!"
   ]
  },
  {
   "cell_type": "markdown",
   "metadata": {},
   "source": [
    "If everything works out you'll notice that the original message is back.  Let's suppose that we do not have the correct private key.  We've included some junk numbers in the file [junkkey.txt](https://github.com/chrisketelsen/courses/blob/master/csci2824/hmwk/hmwk08/junkkey.txt).  Here is what happens: "
   ]
  },
  {
   "cell_type": "code",
   "execution_count": null,
   "metadata": {
    "collapsed": true
   },
   "outputs": [],
   "source": [
    "Enter filename to decode: message.txt\n",
    "    \n",
    " >> OK! Encoded msg: [787611330473518491344459996541643197101L, 231322456613215900034492519984547878321L, 299061959088695656247531155090995352552L, 81275457728967748660767642156733038329L, 225070498326372227060587316741722259988L, 225070498326372227060587316741722259988L, 599484394949972756284838808511064056395L, 110, 101, 1311504039063131626099971275392989242784L, 101, 114, 599484394949972756284838808511064056395L, 206314623465841208138871707013245404989L, 1267740331055225915282634852693209914453L, 116, 206314623465841208138871707013245404989L, 104, 599484394949972756284838808511064056395L, 109, 101, 44, 599484394949972756284838808511064056395L, 143934788201715961548764850833941400478L, 231322456613215900034492519984547878321L, 112, 112, 101, 114, 33, 599484394949972756284838808511064056395L]\n",
    "    \n",
    "Enter key file:  junkkey.txt\n",
    "    \n",
    " >> I will read keys from:  junkkey.txt\n",
    "    \n",
    " >> n= 402397153652353415537797  d=  402397153650952947295753\n",
    "\n",
    " >> decoded message:  ??a??6\n",
    "                              CC?6??sؾ6hC]6;?ssC?T6"
   ]
  },
  {
   "cell_type": "markdown",
   "metadata": {},
   "source": [
    "### Message Decrypting Tasks\n",
    "***\n",
    "\n",
    "Now that you have everything working, go ahead and attempt to crack the following messages: \n",
    "\n",
    "- [message-1.txt](https://github.com/chrisketelsen/courses/blob/master/csci2824/hmwk/hmwk08/message-1.txt) encrypted using [public-1.txt](https://github.com/chrisketelsen/courses/blob/master/csci2824/hmwk/hmwk08/public-1.txt) \n",
    "- [message-2.txt](https://github.com/chrisketelsen/courses/blob/master/csci2824/hmwk/hmwk08/message-2.txt) encrypted using [public-2.txt](https://github.com/chrisketelsen/courses/blob/master/csci2824/hmwk/hmwk08/public-2.txt) \n",
    "- [message-3.txt](https://github.com/chrisketelsen/courses/blob/master/csci2824/hmwk/hmwk08/message-3.txt) encrypted using [public-3.txt](https://github.com/chrisketelsen/courses/blob/master/csci2824/hmwk/hmwk08/public-3.txt) (THIS ONE IS HARD!) \n",
    "- [message-4.txt](https://github.com/chrisketelsen/courses/blob/master/csci2824/hmwk/hmwk08/message-4.txt) encrypted using [public-4.txt](https://github.com/chrisketelsen/courses/blob/master/csci2824/hmwk/hmwk08/public-4.txt) (THIS ONE IS HARDER!)"
   ]
  }
 ],
 "metadata": {
  "kernelspec": {
   "display_name": "Python 2",
   "language": "python",
   "name": "python2"
  },
  "language_info": {
   "codemirror_mode": {
    "name": "ipython",
    "version": 2
   },
   "file_extension": ".py",
   "mimetype": "text/x-python",
   "name": "python",
   "nbconvert_exporter": "python",
   "pygments_lexer": "ipython2",
   "version": "2.7.12"
  }
 },
 "nbformat": 4,
 "nbformat_minor": 0
}
